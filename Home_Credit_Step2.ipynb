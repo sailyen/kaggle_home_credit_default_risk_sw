{
 "cells": [
  {
   "cell_type": "code",
   "execution_count": 1,
   "metadata": {},
   "outputs": [],
   "source": [
    "import pandas as pd\n",
    "import numpy as np\n",
    "\n",
    "import matplotlib.pyplot as plt\n",
    "import seaborn as sns\n",
    "\n",
    "import warnings\n",
    "warnings.filterwarnings('ignore')"
   ]
  },
  {
   "cell_type": "code",
   "execution_count": 2,
   "metadata": {},
   "outputs": [],
   "source": [
    "import sys\n",
    "\n",
    "def return_size(df):\n",
    "    \"\"\"Return size of dataframe in gigabytes\"\"\"\n",
    "    return round(sys.getsizeof(df) / 1e9, 2)\n",
    "\n",
    "def convert_types(df):\n",
    "    print(f'Original size of data: {return_size(df)} gb.')\n",
    "    for c in df:\n",
    "        if df[c].dtype == 'object':\n",
    "            df[c] = df[c].astype('category')\n",
    "    print(f'New size of data: {return_size(df)} gb.')\n",
    "    return df"
   ]
  },
  {
   "cell_type": "code",
   "execution_count": 3,
   "metadata": {},
   "outputs": [
    {
     "name": "stdout",
     "output_type": "stream",
     "text": [
      "Original size of data: 4.13 gb.\n",
      "New size of data: 3.78 gb.\n"
     ]
    },
    {
     "data": {
      "text/html": [
       "<div>\n",
       "<style scoped>\n",
       "    .dataframe tbody tr th:only-of-type {\n",
       "        vertical-align: middle;\n",
       "    }\n",
       "\n",
       "    .dataframe tbody tr th {\n",
       "        vertical-align: top;\n",
       "    }\n",
       "\n",
       "    .dataframe thead th {\n",
       "        text-align: right;\n",
       "    }\n",
       "</style>\n",
       "<table border=\"1\" class=\"dataframe\">\n",
       "  <thead>\n",
       "    <tr style=\"text-align: right;\">\n",
       "      <th></th>\n",
       "      <th>SK_ID_CURR</th>\n",
       "      <th>AMT_ANNUITY</th>\n",
       "      <th>AMT_CREDIT</th>\n",
       "      <th>AMT_GOODS_PRICE</th>\n",
       "      <th>AMT_INCOME_TOTAL</th>\n",
       "      <th>AMT_REQ_CREDIT_BUREAU_DAY</th>\n",
       "      <th>AMT_REQ_CREDIT_BUREAU_HOUR</th>\n",
       "      <th>AMT_REQ_CREDIT_BUREAU_MON</th>\n",
       "      <th>AMT_REQ_CREDIT_BUREAU_QRT</th>\n",
       "      <th>AMT_REQ_CREDIT_BUREAU_WEEK</th>\n",
       "      <th>...</th>\n",
       "      <th>CC_CLIENT_CC_LOAN_AMT_DRAWINGS_ATM_CURRENT_mean_max</th>\n",
       "      <th>CC_CLIENT_CC_LOAN_AMT_PAYMENT_CURRENT_mean_min</th>\n",
       "      <th>CC_CLIENT_CC_LOAN_AMT_PAYMENT_CURRENT_mean_mean</th>\n",
       "      <th>CC_CLIENT_CC_LOAN_AMT_PAYMENT_CURRENT_mean_max</th>\n",
       "      <th>CC_CLIENT_CC_LOAN_AMT_PAYMENT_CURRENT_max_min</th>\n",
       "      <th>CC_CLIENT_CC_LOAN_AMT_PAYMENT_CURRENT_max_mean</th>\n",
       "      <th>CC_CLIENT_CC_LOAN_AMT_PAYMENT_CURRENT_max_max</th>\n",
       "      <th>CC_CLIENT_CC_LOAN_AMT_DRAWINGS_ATM_CURRENT_max_min</th>\n",
       "      <th>CC_CLIENT_CC_LOAN_AMT_DRAWINGS_ATM_CURRENT_max_mean</th>\n",
       "      <th>CC_CLIENT_CC_LOAN_AMT_DRAWINGS_ATM_CURRENT_max_max</th>\n",
       "    </tr>\n",
       "  </thead>\n",
       "  <tbody>\n",
       "    <tr>\n",
       "      <th>0</th>\n",
       "      <td>100002.0</td>\n",
       "      <td>24700.5</td>\n",
       "      <td>406597.5</td>\n",
       "      <td>351000.0</td>\n",
       "      <td>202500.0</td>\n",
       "      <td>0.0</td>\n",
       "      <td>0.0</td>\n",
       "      <td>0.0</td>\n",
       "      <td>0.0</td>\n",
       "      <td>0.0</td>\n",
       "      <td>...</td>\n",
       "      <td>NaN</td>\n",
       "      <td>NaN</td>\n",
       "      <td>NaN</td>\n",
       "      <td>NaN</td>\n",
       "      <td>NaN</td>\n",
       "      <td>NaN</td>\n",
       "      <td>NaN</td>\n",
       "      <td>NaN</td>\n",
       "      <td>NaN</td>\n",
       "      <td>NaN</td>\n",
       "    </tr>\n",
       "    <tr>\n",
       "      <th>1</th>\n",
       "      <td>100003.0</td>\n",
       "      <td>35698.5</td>\n",
       "      <td>1293502.5</td>\n",
       "      <td>1129500.0</td>\n",
       "      <td>270000.0</td>\n",
       "      <td>0.0</td>\n",
       "      <td>0.0</td>\n",
       "      <td>0.0</td>\n",
       "      <td>0.0</td>\n",
       "      <td>0.0</td>\n",
       "      <td>...</td>\n",
       "      <td>NaN</td>\n",
       "      <td>NaN</td>\n",
       "      <td>NaN</td>\n",
       "      <td>NaN</td>\n",
       "      <td>NaN</td>\n",
       "      <td>NaN</td>\n",
       "      <td>NaN</td>\n",
       "      <td>NaN</td>\n",
       "      <td>NaN</td>\n",
       "      <td>NaN</td>\n",
       "    </tr>\n",
       "    <tr>\n",
       "      <th>2</th>\n",
       "      <td>100004.0</td>\n",
       "      <td>6750.0</td>\n",
       "      <td>135000.0</td>\n",
       "      <td>135000.0</td>\n",
       "      <td>67500.0</td>\n",
       "      <td>0.0</td>\n",
       "      <td>0.0</td>\n",
       "      <td>0.0</td>\n",
       "      <td>0.0</td>\n",
       "      <td>0.0</td>\n",
       "      <td>...</td>\n",
       "      <td>NaN</td>\n",
       "      <td>NaN</td>\n",
       "      <td>NaN</td>\n",
       "      <td>NaN</td>\n",
       "      <td>NaN</td>\n",
       "      <td>NaN</td>\n",
       "      <td>NaN</td>\n",
       "      <td>NaN</td>\n",
       "      <td>NaN</td>\n",
       "      <td>NaN</td>\n",
       "    </tr>\n",
       "    <tr>\n",
       "      <th>3</th>\n",
       "      <td>100006.0</td>\n",
       "      <td>29686.5</td>\n",
       "      <td>312682.5</td>\n",
       "      <td>297000.0</td>\n",
       "      <td>135000.0</td>\n",
       "      <td>NaN</td>\n",
       "      <td>NaN</td>\n",
       "      <td>NaN</td>\n",
       "      <td>NaN</td>\n",
       "      <td>NaN</td>\n",
       "      <td>...</td>\n",
       "      <td>NaN</td>\n",
       "      <td>NaN</td>\n",
       "      <td>NaN</td>\n",
       "      <td>NaN</td>\n",
       "      <td>NaN</td>\n",
       "      <td>NaN</td>\n",
       "      <td>NaN</td>\n",
       "      <td>NaN</td>\n",
       "      <td>NaN</td>\n",
       "      <td>NaN</td>\n",
       "    </tr>\n",
       "    <tr>\n",
       "      <th>4</th>\n",
       "      <td>100007.0</td>\n",
       "      <td>21865.5</td>\n",
       "      <td>513000.0</td>\n",
       "      <td>513000.0</td>\n",
       "      <td>121500.0</td>\n",
       "      <td>0.0</td>\n",
       "      <td>0.0</td>\n",
       "      <td>0.0</td>\n",
       "      <td>0.0</td>\n",
       "      <td>0.0</td>\n",
       "      <td>...</td>\n",
       "      <td>NaN</td>\n",
       "      <td>NaN</td>\n",
       "      <td>NaN</td>\n",
       "      <td>NaN</td>\n",
       "      <td>NaN</td>\n",
       "      <td>NaN</td>\n",
       "      <td>NaN</td>\n",
       "      <td>NaN</td>\n",
       "      <td>NaN</td>\n",
       "      <td>NaN</td>\n",
       "    </tr>\n",
       "  </tbody>\n",
       "</table>\n",
       "<p>5 rows × 1341 columns</p>\n",
       "</div>"
      ],
      "text/plain": [
       "   SK_ID_CURR  AMT_ANNUITY  AMT_CREDIT  AMT_GOODS_PRICE  AMT_INCOME_TOTAL  \\\n",
       "0    100002.0      24700.5    406597.5         351000.0          202500.0   \n",
       "1    100003.0      35698.5   1293502.5        1129500.0          270000.0   \n",
       "2    100004.0       6750.0    135000.0         135000.0           67500.0   \n",
       "3    100006.0      29686.5    312682.5         297000.0          135000.0   \n",
       "4    100007.0      21865.5    513000.0         513000.0          121500.0   \n",
       "\n",
       "   AMT_REQ_CREDIT_BUREAU_DAY  AMT_REQ_CREDIT_BUREAU_HOUR  \\\n",
       "0                        0.0                         0.0   \n",
       "1                        0.0                         0.0   \n",
       "2                        0.0                         0.0   \n",
       "3                        NaN                         NaN   \n",
       "4                        0.0                         0.0   \n",
       "\n",
       "   AMT_REQ_CREDIT_BUREAU_MON  AMT_REQ_CREDIT_BUREAU_QRT  \\\n",
       "0                        0.0                        0.0   \n",
       "1                        0.0                        0.0   \n",
       "2                        0.0                        0.0   \n",
       "3                        NaN                        NaN   \n",
       "4                        0.0                        0.0   \n",
       "\n",
       "   AMT_REQ_CREDIT_BUREAU_WEEK  \\\n",
       "0                         0.0   \n",
       "1                         0.0   \n",
       "2                         0.0   \n",
       "3                         NaN   \n",
       "4                         0.0   \n",
       "\n",
       "                         ...                          \\\n",
       "0                        ...                           \n",
       "1                        ...                           \n",
       "2                        ...                           \n",
       "3                        ...                           \n",
       "4                        ...                           \n",
       "\n",
       "   CC_CLIENT_CC_LOAN_AMT_DRAWINGS_ATM_CURRENT_mean_max  \\\n",
       "0                                                NaN     \n",
       "1                                                NaN     \n",
       "2                                                NaN     \n",
       "3                                                NaN     \n",
       "4                                                NaN     \n",
       "\n",
       "   CC_CLIENT_CC_LOAN_AMT_PAYMENT_CURRENT_mean_min  \\\n",
       "0                                             NaN   \n",
       "1                                             NaN   \n",
       "2                                             NaN   \n",
       "3                                             NaN   \n",
       "4                                             NaN   \n",
       "\n",
       "   CC_CLIENT_CC_LOAN_AMT_PAYMENT_CURRENT_mean_mean  \\\n",
       "0                                              NaN   \n",
       "1                                              NaN   \n",
       "2                                              NaN   \n",
       "3                                              NaN   \n",
       "4                                              NaN   \n",
       "\n",
       "   CC_CLIENT_CC_LOAN_AMT_PAYMENT_CURRENT_mean_max  \\\n",
       "0                                             NaN   \n",
       "1                                             NaN   \n",
       "2                                             NaN   \n",
       "3                                             NaN   \n",
       "4                                             NaN   \n",
       "\n",
       "   CC_CLIENT_CC_LOAN_AMT_PAYMENT_CURRENT_max_min  \\\n",
       "0                                            NaN   \n",
       "1                                            NaN   \n",
       "2                                            NaN   \n",
       "3                                            NaN   \n",
       "4                                            NaN   \n",
       "\n",
       "   CC_CLIENT_CC_LOAN_AMT_PAYMENT_CURRENT_max_mean  \\\n",
       "0                                             NaN   \n",
       "1                                             NaN   \n",
       "2                                             NaN   \n",
       "3                                             NaN   \n",
       "4                                             NaN   \n",
       "\n",
       "   CC_CLIENT_CC_LOAN_AMT_PAYMENT_CURRENT_max_max  \\\n",
       "0                                            NaN   \n",
       "1                                            NaN   \n",
       "2                                            NaN   \n",
       "3                                            NaN   \n",
       "4                                            NaN   \n",
       "\n",
       "   CC_CLIENT_CC_LOAN_AMT_DRAWINGS_ATM_CURRENT_max_min  \\\n",
       "0                                                NaN    \n",
       "1                                                NaN    \n",
       "2                                                NaN    \n",
       "3                                                NaN    \n",
       "4                                                NaN    \n",
       "\n",
       "   CC_CLIENT_CC_LOAN_AMT_DRAWINGS_ATM_CURRENT_max_mean  \\\n",
       "0                                                NaN     \n",
       "1                                                NaN     \n",
       "2                                                NaN     \n",
       "3                                                NaN     \n",
       "4                                                NaN     \n",
       "\n",
       "  CC_CLIENT_CC_LOAN_AMT_DRAWINGS_ATM_CURRENT_max_max  \n",
       "0                                                NaN  \n",
       "1                                                NaN  \n",
       "2                                                NaN  \n",
       "3                                                NaN  \n",
       "4                                                NaN  \n",
       "\n",
       "[5 rows x 1341 columns]"
      ]
     },
     "execution_count": 3,
     "metadata": {},
     "output_type": "execute_result"
    }
   ],
   "source": [
    "full = pd.read_csv('clean_full.csv')\n",
    "full = convert_types(full)\n",
    "full.head()"
   ]
  },
  {
   "cell_type": "code",
   "execution_count": 4,
   "metadata": {},
   "outputs": [],
   "source": [
    "# missing_values_table\n",
    "\n",
    "def missing_values_table(df):\n",
    "    \n",
    "    mis_val = df.isnull().sum()\n",
    "    mis_val_percent = 100 * df.isnull().sum()/len(df)\n",
    "    \n",
    "    mis_val_table = pd.concat([mis_val, mis_val_percent], axis = 1)\n",
    "    \n",
    "    mis_val_table_ren_columns = mis_val_table.rename(columns = {0: 'Missing Values', 1: '% of Total Values'})\n",
    "    \n",
    "    mis_val_table_ren_columns = mis_val_table_ren_columns[\n",
    "        mis_val_table_ren_columns.iloc[:,1] != 0].sort_values('% of Total Values', ascending=False).round(1)\n",
    "    \n",
    "    print (\"Your selected dataframe has \" + str(df.shape[1]) + \" columns.\\n\" + \n",
    "           \"There are \" + str(mis_val_table_ren_columns.shape[0]) + \"columns that have missing values.\")\n",
    "        \n",
    "        # Return the dataframe with missing information\n",
    "    return mis_val_table_ren_columns"
   ]
  },
  {
   "cell_type": "code",
   "execution_count": 5,
   "metadata": {},
   "outputs": [
    {
     "name": "stdout",
     "output_type": "stream",
     "text": [
      "Your selected dataframe has 1341 columns.\n",
      "There are 1286columns that have missing values.\n"
     ]
    },
    {
     "data": {
      "text/html": [
       "<div>\n",
       "<style scoped>\n",
       "    .dataframe tbody tr th:only-of-type {\n",
       "        vertical-align: middle;\n",
       "    }\n",
       "\n",
       "    .dataframe tbody tr th {\n",
       "        vertical-align: top;\n",
       "    }\n",
       "\n",
       "    .dataframe thead th {\n",
       "        text-align: right;\n",
       "    }\n",
       "</style>\n",
       "<table border=\"1\" class=\"dataframe\">\n",
       "  <thead>\n",
       "    <tr style=\"text-align: right;\">\n",
       "      <th></th>\n",
       "      <th>Missing Values</th>\n",
       "      <th>% of Total Values</th>\n",
       "    </tr>\n",
       "  </thead>\n",
       "  <tbody>\n",
       "    <tr>\n",
       "      <th>PREVIOUS_RATE_INTEREST_PRIMARY_max</th>\n",
       "      <td>350534</td>\n",
       "      <td>98.4</td>\n",
       "    </tr>\n",
       "    <tr>\n",
       "      <th>PREVIOUS_RATE_INTEREST_PRIMARY_min</th>\n",
       "      <td>350534</td>\n",
       "      <td>98.4</td>\n",
       "    </tr>\n",
       "    <tr>\n",
       "      <th>PREVIOUS_RATE_INTEREST_PRIVILEGED_min</th>\n",
       "      <td>350534</td>\n",
       "      <td>98.4</td>\n",
       "    </tr>\n",
       "    <tr>\n",
       "      <th>PREVIOUS_RATE_INTEREST_PRIVILEGED_mean</th>\n",
       "      <td>350534</td>\n",
       "      <td>98.4</td>\n",
       "    </tr>\n",
       "    <tr>\n",
       "      <th>PREVIOUS_RATE_INTEREST_PRIVILEGED_max</th>\n",
       "      <td>350534</td>\n",
       "      <td>98.4</td>\n",
       "    </tr>\n",
       "    <tr>\n",
       "      <th>PREVIOUS_RATE_INTEREST_PRIMARY_mean</th>\n",
       "      <td>350534</td>\n",
       "      <td>98.4</td>\n",
       "    </tr>\n",
       "    <tr>\n",
       "      <th>CC_CLIENT_CC_LOAN_AMT_PAYMENT_CURRENT_max_min</th>\n",
       "      <td>294314</td>\n",
       "      <td>82.6</td>\n",
       "    </tr>\n",
       "    <tr>\n",
       "      <th>CC_CLIENT_CC_LOAN_AMT_PAYMENT_CURRENT_max_max</th>\n",
       "      <td>294314</td>\n",
       "      <td>82.6</td>\n",
       "    </tr>\n",
       "    <tr>\n",
       "      <th>CC_CLIENT_CC_LOAN_AMT_PAYMENT_CURRENT_min_min</th>\n",
       "      <td>294314</td>\n",
       "      <td>82.6</td>\n",
       "    </tr>\n",
       "    <tr>\n",
       "      <th>CC_CLIENT_CC_LOAN_AMT_PAYMENT_CURRENT_min_mean</th>\n",
       "      <td>294314</td>\n",
       "      <td>82.6</td>\n",
       "    </tr>\n",
       "  </tbody>\n",
       "</table>\n",
       "</div>"
      ],
      "text/plain": [
       "                                                Missing Values  \\\n",
       "PREVIOUS_RATE_INTEREST_PRIMARY_max                      350534   \n",
       "PREVIOUS_RATE_INTEREST_PRIMARY_min                      350534   \n",
       "PREVIOUS_RATE_INTEREST_PRIVILEGED_min                   350534   \n",
       "PREVIOUS_RATE_INTEREST_PRIVILEGED_mean                  350534   \n",
       "PREVIOUS_RATE_INTEREST_PRIVILEGED_max                   350534   \n",
       "PREVIOUS_RATE_INTEREST_PRIMARY_mean                     350534   \n",
       "CC_CLIENT_CC_LOAN_AMT_PAYMENT_CURRENT_max_min           294314   \n",
       "CC_CLIENT_CC_LOAN_AMT_PAYMENT_CURRENT_max_max           294314   \n",
       "CC_CLIENT_CC_LOAN_AMT_PAYMENT_CURRENT_min_min           294314   \n",
       "CC_CLIENT_CC_LOAN_AMT_PAYMENT_CURRENT_min_mean          294314   \n",
       "\n",
       "                                                % of Total Values  \n",
       "PREVIOUS_RATE_INTEREST_PRIMARY_max                           98.4  \n",
       "PREVIOUS_RATE_INTEREST_PRIMARY_min                           98.4  \n",
       "PREVIOUS_RATE_INTEREST_PRIVILEGED_min                        98.4  \n",
       "PREVIOUS_RATE_INTEREST_PRIVILEGED_mean                       98.4  \n",
       "PREVIOUS_RATE_INTEREST_PRIVILEGED_max                        98.4  \n",
       "PREVIOUS_RATE_INTEREST_PRIMARY_mean                          98.4  \n",
       "CC_CLIENT_CC_LOAN_AMT_PAYMENT_CURRENT_max_min                82.6  \n",
       "CC_CLIENT_CC_LOAN_AMT_PAYMENT_CURRENT_max_max                82.6  \n",
       "CC_CLIENT_CC_LOAN_AMT_PAYMENT_CURRENT_min_min                82.6  \n",
       "CC_CLIENT_CC_LOAN_AMT_PAYMENT_CURRENT_min_mean               82.6  "
      ]
     },
     "execution_count": 5,
     "metadata": {},
     "output_type": "execute_result"
    }
   ],
   "source": [
    "missing = missing_values_table(full)\n",
    "missing.head(10)"
   ]
  },
  {
   "cell_type": "code",
   "execution_count": 6,
   "metadata": {},
   "outputs": [
    {
     "data": {
      "text/plain": [
       "6"
      ]
     },
     "execution_count": 6,
     "metadata": {},
     "output_type": "execute_result"
    }
   ],
   "source": [
    "missing = list(missing.index[missing['% of Total Values'] > 90])\n",
    "len(missing)"
   ]
  },
  {
   "cell_type": "code",
   "execution_count": 7,
   "metadata": {},
   "outputs": [],
   "source": [
    "full = full.drop(columns = missing)"
   ]
  },
  {
   "cell_type": "markdown",
   "metadata": {},
   "source": [
    "### Functions"
   ]
  },
  {
   "cell_type": "code",
   "execution_count": 8,
   "metadata": {},
   "outputs": [],
   "source": [
    "def target_corrs(df):\n",
    "    \n",
    "    corrs = []\n",
    "    \n",
    "    for col in df.columns:\n",
    "        if col != 'TARGET': # Y variable\n",
    "            corr = df['TARGET'].corr(df[col])\n",
    "            corrs.append((col, corr))\n",
    "            \n",
    "    corrs = pd.DataFrame(sorted(corrs, key = lambda x: abs(x[1]), reverse = True)).rename(columns = {0: 'variable', 1:'corr_with_target'})\n",
    "    \n",
    "    return corrs"
   ]
  },
  {
   "cell_type": "code",
   "execution_count": 9,
   "metadata": {},
   "outputs": [],
   "source": [
    "#try to find important interaction features\n",
    "def interact_variable_list(df, target, thresh):\n",
    "    key_v = corrs_target.head(5).variable.tolist()\n",
    "    key_variable = df[key_v]\n",
    "    for a in key_variable.columns:\n",
    "        for b in key_variable.columns:\n",
    "            if a != b:\n",
    "                name = a + '*' + b\n",
    "                key_variable[name] = key_variable[a] * key_variable[b]\n",
    "    \n",
    "    key_variable[target] = df[target]\n",
    "    intact_variable = target_corrs(key_variable)\n",
    "    key_intact_variable = intact_variable[abs(intact_variable['corr_with_target']) > thres_interact[thresh]].reset_index().drop(columns = ['index'])\n",
    "    key_intact_variable = key_intact_variable.groupby('corr_with_target', as_index = False).agg(['first']).reset_index()\n",
    "    \n",
    "    columns = ['corr_with_target', 'key_variables']\n",
    "    key_intact_variable.columns = columns\n",
    "    key_intact_variable_list = key_intact_variable['key_variables'].tolist()\n",
    "    \n",
    "    return key_v, key_intact_variable_list"
   ]
  },
  {
   "cell_type": "code",
   "execution_count": 10,
   "metadata": {},
   "outputs": [],
   "source": [
    "def add_interact_variable(df):\n",
    "    \n",
    "    key_variable = df[key_v]\n",
    "    for a in key_variable.columns:\n",
    "        for b in key_variable.columns:\n",
    "            if a != b:\n",
    "                name = a + '*' + b\n",
    "                key_variable[name] = key_variable[a] * key_variable[b]\n",
    "                \n",
    "    df[key_intact_variable_list] = key_variable[key_intact_variable_list]\n",
    "    \n",
    "    return df"
   ]
  },
  {
   "cell_type": "code",
   "execution_count": 11,
   "metadata": {},
   "outputs": [],
   "source": [
    "row = 0\n",
    "def get_numeric(df, target):\n",
    "    d_type_list = pd.DataFrame((df.iloc[row, ] != 0 & (df.iloc[row, ] != 1))).reset_index().rename(columns = {row : 'mark'})\n",
    "    numeric_list = d_type_list[d_type_list['mark'] == True]['index'].tolist()\n",
    "    numeric = df[numeric_list].select_dtypes('number')\n",
    "    numeric[target] = df[target]\n",
    "    \n",
    "    return numeric"
   ]
  },
  {
   "cell_type": "code",
   "execution_count": 12,
   "metadata": {},
   "outputs": [],
   "source": [
    "def get_log_list(df, target):\n",
    "    log_list = []\n",
    "    for col in df.drop(columns = [target]).columns:\n",
    "        name = col + '_log'\n",
    "        df[name] = np.log(df[col] + 1)\n",
    "        corr_pre_log = df[target].corr(df[col])\n",
    "        corr_post_log = df[target].corr(df[name])\n",
    "        if corr_post_log > corr_pre_log:\n",
    "            log_list.append(col)\n",
    "            \n",
    "    return log_list"
   ]
  },
  {
   "cell_type": "code",
   "execution_count": 13,
   "metadata": {},
   "outputs": [],
   "source": [
    "def log_transf(df):\n",
    "    for col in log_list:\n",
    "        name = col + '_log'\n",
    "        df[name] = np.log(abs(df[col]) + 1)\n",
    "        df = df.drop(columns = [col])\n",
    "    return df"
   ]
  },
  {
   "cell_type": "code",
   "execution_count": 14,
   "metadata": {},
   "outputs": [],
   "source": [
    "def get_binary(df, target):\n",
    "    numeric_list = get_numeric(df, target).drop(columns = [target]).columns.tolist()\n",
    "    number_list = df.select_dtypes('number').columns\n",
    "    binary_list = [x for x in number_list if x not in numeric_list]\n",
    "    \n",
    "    return binary_list"
   ]
  },
  {
   "cell_type": "code",
   "execution_count": 15,
   "metadata": {},
   "outputs": [],
   "source": [
    "#can only be used for numeric variables, so, plz do the following with get_numeric() function\n",
    "thresh_imp = 0\n",
    "\n",
    "def missing_imp_list(df, target):\n",
    "    missing_imp_list = []\n",
    "    for col in df.drop(columns = [target]).columns:\n",
    "        name = col + '_imp'\n",
    "        df[name] = df[col]\n",
    "        a = df[name].values\n",
    "        m = np.isnan(a)\n",
    "        mu, sig = df[col].mean(), df[col].std()\n",
    "        a[m] = np.random.normal(mu, abs(sig), size = m.sum())\n",
    "        corr_pre_imp = df[target].corr(df[col])\n",
    "        corr_post_imp = df[target].corr(df[name])\n",
    "        if corr_post_imp - corr_pre_imp > thresh_imp:\n",
    "            missing_imp_list.append(col)\n",
    "            \n",
    "    return missing_imp_list"
   ]
  },
  {
   "cell_type": "code",
   "execution_count": 16,
   "metadata": {},
   "outputs": [],
   "source": [
    "def missing_imputing(df):\n",
    "    for col in missing_imp_lists:\n",
    "        name = col + '_imp'\n",
    "        df[name] = df[col]\n",
    "        a = df[name].values\n",
    "        m = np.isnan(a)\n",
    "        mu, sig = df[col].mean(), df[col].std()\n",
    "        a[m] = np.random.normal(mu, abs(sig), size = m.sum())\n",
    "        df = df.drop(columns = [col])\n",
    "        \n",
    "    return df"
   ]
  },
  {
   "cell_type": "markdown",
   "metadata": {},
   "source": [
    "### Correlations"
   ]
  },
  {
   "cell_type": "code",
   "execution_count": 17,
   "metadata": {},
   "outputs": [],
   "source": [
    "corrs = full.corr()"
   ]
  },
  {
   "cell_type": "code",
   "execution_count": 18,
   "metadata": {},
   "outputs": [
    {
     "data": {
      "text/html": [
       "<div>\n",
       "<style scoped>\n",
       "    .dataframe tbody tr th:only-of-type {\n",
       "        vertical-align: middle;\n",
       "    }\n",
       "\n",
       "    .dataframe tbody tr th {\n",
       "        vertical-align: top;\n",
       "    }\n",
       "\n",
       "    .dataframe thead th {\n",
       "        text-align: right;\n",
       "    }\n",
       "</style>\n",
       "<table border=\"1\" class=\"dataframe\">\n",
       "  <thead>\n",
       "    <tr style=\"text-align: right;\">\n",
       "      <th></th>\n",
       "      <th>TARGET</th>\n",
       "    </tr>\n",
       "  </thead>\n",
       "  <tbody>\n",
       "    <tr>\n",
       "      <th>TARGET</th>\n",
       "      <td>1.000000</td>\n",
       "    </tr>\n",
       "    <tr>\n",
       "      <th>CC_CLIENT_CC_LOAN_CNT_DRAWINGS_ATM_CURRENT_mean_sum</th>\n",
       "      <td>0.116795</td>\n",
       "    </tr>\n",
       "    <tr>\n",
       "      <th>CC_CLIENT_CC_LOAN_CNT_DRAWINGS_ATM_CURRENT_mean_max</th>\n",
       "      <td>0.102996</td>\n",
       "    </tr>\n",
       "    <tr>\n",
       "      <th>CC_CLIENT_CC_LOAN_CNT_DRAWINGS_ATM_CURRENT_mean_mean</th>\n",
       "      <td>0.102917</td>\n",
       "    </tr>\n",
       "    <tr>\n",
       "      <th>CC_CLIENT_CC_LOAN_CNT_DRAWINGS_ATM_CURRENT_mean_min</th>\n",
       "      <td>0.102765</td>\n",
       "    </tr>\n",
       "    <tr>\n",
       "      <th>CC_CLIENT_CC_LOAN_CNT_DRAWINGS_CURRENT_max_max</th>\n",
       "      <td>0.101090</td>\n",
       "    </tr>\n",
       "    <tr>\n",
       "      <th>CC_CLIENT_CC_LOAN_CNT_DRAWINGS_CURRENT_max_mean</th>\n",
       "      <td>0.100961</td>\n",
       "    </tr>\n",
       "    <tr>\n",
       "      <th>CC_CLIENT_CC_LOAN_CNT_DRAWINGS_CURRENT_max_sum</th>\n",
       "      <td>0.100923</td>\n",
       "    </tr>\n",
       "    <tr>\n",
       "      <th>CC_CLIENT_CC_LOAN_CNT_DRAWINGS_CURRENT_max_min</th>\n",
       "      <td>0.100664</td>\n",
       "    </tr>\n",
       "    <tr>\n",
       "      <th>PREVIOUS_DAYS_FIRST_DRAWING_max</th>\n",
       "      <td>0.096222</td>\n",
       "    </tr>\n",
       "  </tbody>\n",
       "</table>\n",
       "</div>"
      ],
      "text/plain": [
       "                                                      TARGET\n",
       "TARGET                                              1.000000\n",
       "CC_CLIENT_CC_LOAN_CNT_DRAWINGS_ATM_CURRENT_mean...  0.116795\n",
       "CC_CLIENT_CC_LOAN_CNT_DRAWINGS_ATM_CURRENT_mean...  0.102996\n",
       "CC_CLIENT_CC_LOAN_CNT_DRAWINGS_ATM_CURRENT_mean...  0.102917\n",
       "CC_CLIENT_CC_LOAN_CNT_DRAWINGS_ATM_CURRENT_mean...  0.102765\n",
       "CC_CLIENT_CC_LOAN_CNT_DRAWINGS_CURRENT_max_max      0.101090\n",
       "CC_CLIENT_CC_LOAN_CNT_DRAWINGS_CURRENT_max_mean     0.100961\n",
       "CC_CLIENT_CC_LOAN_CNT_DRAWINGS_CURRENT_max_sum      0.100923\n",
       "CC_CLIENT_CC_LOAN_CNT_DRAWINGS_CURRENT_max_min      0.100664\n",
       "PREVIOUS_DAYS_FIRST_DRAWING_max                     0.096222"
      ]
     },
     "execution_count": 18,
     "metadata": {},
     "output_type": "execute_result"
    }
   ],
   "source": [
    "corrs = corrs.sort_values('TARGET', ascending = False)\n",
    "# Ten most positive correlations\n",
    "pd.DataFrame(corrs['TARGET'].head(10))"
   ]
  },
  {
   "cell_type": "code",
   "execution_count": 19,
   "metadata": {
    "scrolled": true
   },
   "outputs": [
    {
     "data": {
      "text/html": [
       "<div>\n",
       "<style scoped>\n",
       "    .dataframe tbody tr th:only-of-type {\n",
       "        vertical-align: middle;\n",
       "    }\n",
       "\n",
       "    .dataframe tbody tr th {\n",
       "        vertical-align: top;\n",
       "    }\n",
       "\n",
       "    .dataframe thead th {\n",
       "        text-align: right;\n",
       "    }\n",
       "</style>\n",
       "<table border=\"1\" class=\"dataframe\">\n",
       "  <thead>\n",
       "    <tr style=\"text-align: right;\">\n",
       "      <th></th>\n",
       "      <th>TARGET</th>\n",
       "    </tr>\n",
       "  </thead>\n",
       "  <tbody>\n",
       "    <tr>\n",
       "      <th>EMPLOYED_BIRTH_RATIO</th>\n",
       "      <td>-0.067955</td>\n",
       "    </tr>\n",
       "    <tr>\n",
       "      <th>BB_CLIENT_BB_LOAN_MONTHS_BALANCE_count_max</th>\n",
       "      <td>-0.068787</td>\n",
       "    </tr>\n",
       "    <tr>\n",
       "      <th>PREVIOUS_CODE_REJECT_REASON_XAP_mean</th>\n",
       "      <td>-0.073929</td>\n",
       "    </tr>\n",
       "    <tr>\n",
       "      <th>BUREAU_CREDIT_ACTIVE_Closed_mean</th>\n",
       "      <td>-0.079369</td>\n",
       "    </tr>\n",
       "    <tr>\n",
       "      <th>BB_CLIENT_BB_LOAN_MONTHS_BALANCE_count_mean</th>\n",
       "      <td>-0.080193</td>\n",
       "    </tr>\n",
       "    <tr>\n",
       "      <th>EXT_SOURCE_1</th>\n",
       "      <td>-0.155317</td>\n",
       "    </tr>\n",
       "    <tr>\n",
       "      <th>EXT_SOURCE_2</th>\n",
       "      <td>-0.160472</td>\n",
       "    </tr>\n",
       "    <tr>\n",
       "      <th>EXIT_SOURCE_SUM</th>\n",
       "      <td>-0.173322</td>\n",
       "    </tr>\n",
       "    <tr>\n",
       "      <th>EXT_SOURCE_3</th>\n",
       "      <td>-0.178919</td>\n",
       "    </tr>\n",
       "    <tr>\n",
       "      <th>EXIT_SOURCE_MEAN</th>\n",
       "      <td>-0.222052</td>\n",
       "    </tr>\n",
       "  </tbody>\n",
       "</table>\n",
       "</div>"
      ],
      "text/plain": [
       "                                               TARGET\n",
       "EMPLOYED_BIRTH_RATIO                        -0.067955\n",
       "BB_CLIENT_BB_LOAN_MONTHS_BALANCE_count_max  -0.068787\n",
       "PREVIOUS_CODE_REJECT_REASON_XAP_mean        -0.073929\n",
       "BUREAU_CREDIT_ACTIVE_Closed_mean            -0.079369\n",
       "BB_CLIENT_BB_LOAN_MONTHS_BALANCE_count_mean -0.080193\n",
       "EXT_SOURCE_1                                -0.155317\n",
       "EXT_SOURCE_2                                -0.160472\n",
       "EXIT_SOURCE_SUM                             -0.173322\n",
       "EXT_SOURCE_3                                -0.178919\n",
       "EXIT_SOURCE_MEAN                            -0.222052"
      ]
     },
     "execution_count": 19,
     "metadata": {},
     "output_type": "execute_result"
    }
   ],
   "source": [
    "pd.DataFrame(corrs['TARGET'].dropna().tail(10))"
   ]
  },
  {
   "cell_type": "markdown",
   "metadata": {},
   "source": [
    "#### Collinear Variables"
   ]
  },
  {
   "cell_type": "code",
   "execution_count": 20,
   "metadata": {},
   "outputs": [],
   "source": [
    "#set the threshold for collinear\n",
    "threshold = 0.95\n",
    "\n",
    "above_threshold_vars = {}\n",
    "\n",
    "for col in corrs:\n",
    "    above_threshold_vars[col] = list(corrs.index[corrs[col] > threshold])"
   ]
  },
  {
   "cell_type": "code",
   "execution_count": 22,
   "metadata": {},
   "outputs": [
    {
     "name": "stdout",
     "output_type": "stream",
     "text": [
      "Number of columns to remove:  523\n"
     ]
    }
   ],
   "source": [
    "cols_to_remove = []\n",
    "cols_seen = []\n",
    "cols_to_remove_pair = []\n",
    "\n",
    "# Iterate through columns and correlated columns\n",
    "for key, value in above_threshold_vars.items():\n",
    "    # Keep track of columns already examined\n",
    "    cols_seen.append(key)\n",
    "    for x in value:\n",
    "        if x == key:\n",
    "            next\n",
    "        else:\n",
    "            # Only want to remove one in a pair\n",
    "            if x not in cols_seen:\n",
    "                cols_to_remove.append(x)\n",
    "                cols_to_remove_pair.append(key)\n",
    "            \n",
    "cols_to_remove = list(set(cols_to_remove))\n",
    "print('Number of columns to remove: ', len(cols_to_remove))"
   ]
  },
  {
   "cell_type": "code",
   "execution_count": 23,
   "metadata": {},
   "outputs": [
    {
     "data": {
      "text/plain": [
       "['YEARS_BUILD_MODE',\n",
       " 'CC_CLIENT_CC_LOAN_NAME_CONTRACT_STATUS_Completed_mean_max',\n",
       " 'CC_CLIENT_CC_LOAN_AMT_DRAWINGS_CURRENT_max_sum',\n",
       " 'CC_CLIENT_CC_LOAN_AMT_DRAWINGS_POS_CURRENT_sum_mean',\n",
       " 'IN_CLIENT_IN_LOAN_AMT_INSTALMENT_min_max']"
      ]
     },
     "execution_count": 23,
     "metadata": {},
     "output_type": "execute_result"
    }
   ],
   "source": [
    "cols_to_remove[:5]"
   ]
  },
  {
   "cell_type": "code",
   "execution_count": 24,
   "metadata": {},
   "outputs": [],
   "source": [
    "full = full.drop(columns = cols_to_remove)"
   ]
  },
  {
   "cell_type": "code",
   "execution_count": 25,
   "metadata": {},
   "outputs": [
    {
     "data": {
      "text/plain": [
       "21"
      ]
     },
     "execution_count": 25,
     "metadata": {},
     "output_type": "execute_result"
    }
   ],
   "source": [
    "import gc\n",
    "gc.enable()\n",
    "del corrs\n",
    "gc.collect()"
   ]
  },
  {
   "cell_type": "code",
   "execution_count": 29,
   "metadata": {},
   "outputs": [
    {
     "data": {
      "text/html": [
       "<div>\n",
       "<style scoped>\n",
       "    .dataframe tbody tr th:only-of-type {\n",
       "        vertical-align: middle;\n",
       "    }\n",
       "\n",
       "    .dataframe tbody tr th {\n",
       "        vertical-align: top;\n",
       "    }\n",
       "\n",
       "    .dataframe thead th {\n",
       "        text-align: right;\n",
       "    }\n",
       "</style>\n",
       "<table border=\"1\" class=\"dataframe\">\n",
       "  <thead>\n",
       "    <tr style=\"text-align: right;\">\n",
       "      <th></th>\n",
       "      <th>variable</th>\n",
       "      <th>corr_with_target</th>\n",
       "    </tr>\n",
       "  </thead>\n",
       "  <tbody>\n",
       "    <tr>\n",
       "      <th>0</th>\n",
       "      <td>EXIT_SOURCE_MEAN</td>\n",
       "      <td>-0.222052</td>\n",
       "    </tr>\n",
       "    <tr>\n",
       "      <th>1</th>\n",
       "      <td>EXT_SOURCE_3</td>\n",
       "      <td>-0.178919</td>\n",
       "    </tr>\n",
       "    <tr>\n",
       "      <th>2</th>\n",
       "      <td>EXIT_SOURCE_SUM</td>\n",
       "      <td>-0.173322</td>\n",
       "    </tr>\n",
       "    <tr>\n",
       "      <th>3</th>\n",
       "      <td>EXT_SOURCE_2</td>\n",
       "      <td>-0.160472</td>\n",
       "    </tr>\n",
       "    <tr>\n",
       "      <th>4</th>\n",
       "      <td>EXT_SOURCE_1</td>\n",
       "      <td>-0.155317</td>\n",
       "    </tr>\n",
       "    <tr>\n",
       "      <th>5</th>\n",
       "      <td>BUREAU_DAYS_CREDIT_mean</td>\n",
       "      <td>0.089728</td>\n",
       "    </tr>\n",
       "    <tr>\n",
       "      <th>6</th>\n",
       "      <td>BB_CLIENT_BB_LOAN_MONTHS_BALANCE_count_mean</td>\n",
       "      <td>-0.080193</td>\n",
       "    </tr>\n",
       "    <tr>\n",
       "      <th>7</th>\n",
       "      <td>DAYS_BIRTH</td>\n",
       "      <td>0.078239</td>\n",
       "    </tr>\n",
       "    <tr>\n",
       "      <th>8</th>\n",
       "      <td>PREVIOUS_NAME_CONTRACT_STATUS_Refused_mean</td>\n",
       "      <td>0.077671</td>\n",
       "    </tr>\n",
       "    <tr>\n",
       "      <th>9</th>\n",
       "      <td>BUREAU_DAYS_CREDIT_min</td>\n",
       "      <td>0.075247</td>\n",
       "    </tr>\n",
       "  </tbody>\n",
       "</table>\n",
       "</div>"
      ],
      "text/plain": [
       "                                      variable  corr_with_target\n",
       "0                             EXIT_SOURCE_MEAN         -0.222052\n",
       "1                                 EXT_SOURCE_3         -0.178919\n",
       "2                              EXIT_SOURCE_SUM         -0.173322\n",
       "3                                 EXT_SOURCE_2         -0.160472\n",
       "4                                 EXT_SOURCE_1         -0.155317\n",
       "5                      BUREAU_DAYS_CREDIT_mean          0.089728\n",
       "6  BB_CLIENT_BB_LOAN_MONTHS_BALANCE_count_mean         -0.080193\n",
       "7                                   DAYS_BIRTH          0.078239\n",
       "8   PREVIOUS_NAME_CONTRACT_STATUS_Refused_mean          0.077671\n",
       "9                       BUREAU_DAYS_CREDIT_min          0.075247"
      ]
     },
     "execution_count": 29,
     "metadata": {},
     "output_type": "execute_result"
    }
   ],
   "source": [
    "target_corrs(full[full['TARGET'].notnull()].select_dtypes('number')).head(10)"
   ]
  },
  {
   "cell_type": "code",
   "execution_count": 30,
   "metadata": {},
   "outputs": [],
   "source": [
    "full.to_csv('clean_corrs_full.csv')"
   ]
  },
  {
   "cell_type": "markdown",
   "metadata": {},
   "source": [
    "### Categorical Variable\n",
    "\n",
    "#### Step 1\n",
    "* Combine train and test, impute missing as 'unknown'\n",
    "* get dummies for 'object'\n",
    "* combine binary items to both train and test"
   ]
  },
  {
   "cell_type": "raw",
   "metadata": {},
   "source": [
    "full = pd.read_csv('clean_corrs_full.csv')"
   ]
  },
  {
   "cell_type": "code",
   "execution_count": 31,
   "metadata": {},
   "outputs": [
    {
     "data": {
      "text/html": [
       "<div>\n",
       "<style scoped>\n",
       "    .dataframe tbody tr th:only-of-type {\n",
       "        vertical-align: middle;\n",
       "    }\n",
       "\n",
       "    .dataframe tbody tr th {\n",
       "        vertical-align: top;\n",
       "    }\n",
       "\n",
       "    .dataframe thead th {\n",
       "        text-align: right;\n",
       "    }\n",
       "</style>\n",
       "<table border=\"1\" class=\"dataframe\">\n",
       "  <thead>\n",
       "    <tr style=\"text-align: right;\">\n",
       "      <th></th>\n",
       "      <th>CODE_GENDER</th>\n",
       "      <th>EMERGENCYSTATE_MODE</th>\n",
       "      <th>FLAG_OWN_CAR</th>\n",
       "      <th>FLAG_OWN_REALTY</th>\n",
       "      <th>FONDKAPREMONT_MODE</th>\n",
       "      <th>HOUSETYPE_MODE</th>\n",
       "      <th>NAME_CONTRACT_TYPE</th>\n",
       "      <th>NAME_EDUCATION_TYPE</th>\n",
       "      <th>NAME_FAMILY_STATUS</th>\n",
       "      <th>NAME_HOUSING_TYPE</th>\n",
       "      <th>NAME_INCOME_TYPE</th>\n",
       "      <th>NAME_TYPE_SUITE</th>\n",
       "      <th>OCCUPATION_TYPE</th>\n",
       "      <th>ORGANIZATION_TYPE</th>\n",
       "      <th>WALLSMATERIAL_MODE</th>\n",
       "      <th>WEEKDAY_APPR_PROCESS_START</th>\n",
       "    </tr>\n",
       "  </thead>\n",
       "  <tbody>\n",
       "    <tr>\n",
       "      <th>0</th>\n",
       "      <td>M</td>\n",
       "      <td>No</td>\n",
       "      <td>N</td>\n",
       "      <td>Y</td>\n",
       "      <td>reg oper account</td>\n",
       "      <td>block of flats</td>\n",
       "      <td>Cash loans</td>\n",
       "      <td>Secondary / secondary special</td>\n",
       "      <td>Single / not married</td>\n",
       "      <td>House / apartment</td>\n",
       "      <td>Working</td>\n",
       "      <td>Unaccompanied</td>\n",
       "      <td>Laborers</td>\n",
       "      <td>Business Entity Type 3</td>\n",
       "      <td>Stone, brick</td>\n",
       "      <td>WEDNESDAY</td>\n",
       "    </tr>\n",
       "    <tr>\n",
       "      <th>1</th>\n",
       "      <td>F</td>\n",
       "      <td>No</td>\n",
       "      <td>N</td>\n",
       "      <td>N</td>\n",
       "      <td>reg oper account</td>\n",
       "      <td>block of flats</td>\n",
       "      <td>Cash loans</td>\n",
       "      <td>Higher education</td>\n",
       "      <td>Married</td>\n",
       "      <td>House / apartment</td>\n",
       "      <td>State servant</td>\n",
       "      <td>Family</td>\n",
       "      <td>Core staff</td>\n",
       "      <td>School</td>\n",
       "      <td>Block</td>\n",
       "      <td>MONDAY</td>\n",
       "    </tr>\n",
       "    <tr>\n",
       "      <th>2</th>\n",
       "      <td>M</td>\n",
       "      <td>NaN</td>\n",
       "      <td>Y</td>\n",
       "      <td>Y</td>\n",
       "      <td>NaN</td>\n",
       "      <td>NaN</td>\n",
       "      <td>Revolving loans</td>\n",
       "      <td>Secondary / secondary special</td>\n",
       "      <td>Single / not married</td>\n",
       "      <td>House / apartment</td>\n",
       "      <td>Working</td>\n",
       "      <td>Unaccompanied</td>\n",
       "      <td>Laborers</td>\n",
       "      <td>Government</td>\n",
       "      <td>NaN</td>\n",
       "      <td>MONDAY</td>\n",
       "    </tr>\n",
       "    <tr>\n",
       "      <th>3</th>\n",
       "      <td>F</td>\n",
       "      <td>NaN</td>\n",
       "      <td>N</td>\n",
       "      <td>Y</td>\n",
       "      <td>NaN</td>\n",
       "      <td>NaN</td>\n",
       "      <td>Cash loans</td>\n",
       "      <td>Secondary / secondary special</td>\n",
       "      <td>Civil marriage</td>\n",
       "      <td>House / apartment</td>\n",
       "      <td>Working</td>\n",
       "      <td>Unaccompanied</td>\n",
       "      <td>Laborers</td>\n",
       "      <td>Business Entity Type 3</td>\n",
       "      <td>NaN</td>\n",
       "      <td>WEDNESDAY</td>\n",
       "    </tr>\n",
       "    <tr>\n",
       "      <th>4</th>\n",
       "      <td>M</td>\n",
       "      <td>NaN</td>\n",
       "      <td>N</td>\n",
       "      <td>Y</td>\n",
       "      <td>NaN</td>\n",
       "      <td>NaN</td>\n",
       "      <td>Cash loans</td>\n",
       "      <td>Secondary / secondary special</td>\n",
       "      <td>Single / not married</td>\n",
       "      <td>House / apartment</td>\n",
       "      <td>Working</td>\n",
       "      <td>Unaccompanied</td>\n",
       "      <td>Core staff</td>\n",
       "      <td>Religion</td>\n",
       "      <td>NaN</td>\n",
       "      <td>THURSDAY</td>\n",
       "    </tr>\n",
       "  </tbody>\n",
       "</table>\n",
       "</div>"
      ],
      "text/plain": [
       "  CODE_GENDER EMERGENCYSTATE_MODE FLAG_OWN_CAR FLAG_OWN_REALTY  \\\n",
       "0           M                  No            N               Y   \n",
       "1           F                  No            N               N   \n",
       "2           M                 NaN            Y               Y   \n",
       "3           F                 NaN            N               Y   \n",
       "4           M                 NaN            N               Y   \n",
       "\n",
       "  FONDKAPREMONT_MODE  HOUSETYPE_MODE NAME_CONTRACT_TYPE  \\\n",
       "0   reg oper account  block of flats         Cash loans   \n",
       "1   reg oper account  block of flats         Cash loans   \n",
       "2                NaN             NaN    Revolving loans   \n",
       "3                NaN             NaN         Cash loans   \n",
       "4                NaN             NaN         Cash loans   \n",
       "\n",
       "             NAME_EDUCATION_TYPE    NAME_FAMILY_STATUS  NAME_HOUSING_TYPE  \\\n",
       "0  Secondary / secondary special  Single / not married  House / apartment   \n",
       "1               Higher education               Married  House / apartment   \n",
       "2  Secondary / secondary special  Single / not married  House / apartment   \n",
       "3  Secondary / secondary special        Civil marriage  House / apartment   \n",
       "4  Secondary / secondary special  Single / not married  House / apartment   \n",
       "\n",
       "  NAME_INCOME_TYPE NAME_TYPE_SUITE OCCUPATION_TYPE       ORGANIZATION_TYPE  \\\n",
       "0          Working   Unaccompanied        Laborers  Business Entity Type 3   \n",
       "1    State servant          Family      Core staff                  School   \n",
       "2          Working   Unaccompanied        Laborers              Government   \n",
       "3          Working   Unaccompanied        Laborers  Business Entity Type 3   \n",
       "4          Working   Unaccompanied      Core staff                Religion   \n",
       "\n",
       "  WALLSMATERIAL_MODE WEEKDAY_APPR_PROCESS_START  \n",
       "0       Stone, brick                  WEDNESDAY  \n",
       "1              Block                     MONDAY  \n",
       "2                NaN                     MONDAY  \n",
       "3                NaN                  WEDNESDAY  \n",
       "4                NaN                   THURSDAY  "
      ]
     },
     "execution_count": 31,
     "metadata": {},
     "output_type": "execute_result"
    }
   ],
   "source": [
    "Categorical = pd.concat([full.select_dtypes('category'), full.select_dtypes('object')], axis = 1)\n",
    "Categorical.head()"
   ]
  },
  {
   "cell_type": "code",
   "execution_count": 32,
   "metadata": {},
   "outputs": [
    {
     "data": {
      "text/plain": [
       "(356255, 16)"
      ]
     },
     "execution_count": 32,
     "metadata": {},
     "output_type": "execute_result"
    }
   ],
   "source": [
    "Categorical.shape"
   ]
  },
  {
   "cell_type": "code",
   "execution_count": 33,
   "metadata": {},
   "outputs": [
    {
     "data": {
      "text/plain": [
       "['CODE_GENDER',\n",
       " 'EMERGENCYSTATE_MODE',\n",
       " 'FLAG_OWN_CAR',\n",
       " 'FLAG_OWN_REALTY',\n",
       " 'FONDKAPREMONT_MODE',\n",
       " 'HOUSETYPE_MODE',\n",
       " 'NAME_CONTRACT_TYPE',\n",
       " 'NAME_EDUCATION_TYPE',\n",
       " 'NAME_FAMILY_STATUS',\n",
       " 'NAME_HOUSING_TYPE',\n",
       " 'NAME_INCOME_TYPE',\n",
       " 'NAME_TYPE_SUITE',\n",
       " 'OCCUPATION_TYPE',\n",
       " 'ORGANIZATION_TYPE',\n",
       " 'WALLSMATERIAL_MODE',\n",
       " 'WEEKDAY_APPR_PROCESS_START']"
      ]
     },
     "execution_count": 33,
     "metadata": {},
     "output_type": "execute_result"
    }
   ],
   "source": [
    "Cate_variable_list = Categorical.columns.tolist()\n",
    "Cate_variable_list"
   ]
  },
  {
   "cell_type": "code",
   "execution_count": 34,
   "metadata": {},
   "outputs": [
    {
     "name": "stdout",
     "output_type": "stream",
     "text": [
      "CODE_GENDER\n",
      "3 [M, F, XNA]\n",
      "Categories (3, object): [M, F, XNA]\n",
      "EMERGENCYSTATE_MODE\n",
      "3 [No, NaN, Yes]\n",
      "Categories (2, object): [No, Yes]\n",
      "FLAG_OWN_CAR\n",
      "2 [N, Y]\n",
      "Categories (2, object): [N, Y]\n",
      "FLAG_OWN_REALTY\n",
      "2 [Y, N]\n",
      "Categories (2, object): [Y, N]\n",
      "FONDKAPREMONT_MODE\n",
      "5 [reg oper account, NaN, org spec account, reg oper spec account, not specified]\n",
      "Categories (4, object): [reg oper account, org spec account, reg oper spec account, not specified]\n",
      "HOUSETYPE_MODE\n",
      "4 [block of flats, NaN, terraced house, specific housing]\n",
      "Categories (3, object): [block of flats, terraced house, specific housing]\n",
      "NAME_CONTRACT_TYPE\n",
      "2 [Cash loans, Revolving loans]\n",
      "Categories (2, object): [Cash loans, Revolving loans]\n",
      "NAME_EDUCATION_TYPE\n",
      "5 [Secondary / secondary special, Higher education, Incomplete higher, Lower secondary, Academic degree]\n",
      "Categories (5, object): [Secondary / secondary special, Higher education, Incomplete higher, Lower secondary, Academic degree]\n",
      "NAME_FAMILY_STATUS\n",
      "6 [Single / not married, Married, Civil marriage, Widow, Separated, Unknown]\n",
      "Categories (6, object): [Single / not married, Married, Civil marriage, Widow, Separated, Unknown]\n",
      "NAME_HOUSING_TYPE\n",
      "6 [House / apartment, Rented apartment, With parents, Municipal apartment, Office apartment, Co-op apartment]\n",
      "Categories (6, object): [House / apartment, Rented apartment, With parents, Municipal apartment, Office apartment, Co-op apartment]\n",
      "NAME_INCOME_TYPE\n",
      "8 [Working, State servant, Commercial associate, Pensioner, Unemployed, Student, Businessman, Maternity leave]\n",
      "Categories (8, object): [Working, State servant, Commercial associate, Pensioner, Unemployed, Student, Businessman, Maternity leave]\n",
      "NAME_TYPE_SUITE\n",
      "8 [Unaccompanied, Family, Spouse, partner, Children, Other_A, NaN, Other_B, Group of people]\n",
      "Categories (7, object): [Unaccompanied, Family, Spouse, partner, Children, Other_A, Other_B, Group of people]\n",
      "OCCUPATION_TYPE\n",
      "19 [Laborers, Core staff, Accountants, Managers, NaN, ..., Low-skill Laborers, Realty agents, Secretaries, IT staff, HR staff]\n",
      "Length: 19\n",
      "Categories (18, object): [Laborers, Core staff, Accountants, Managers, ..., Realty agents, Secretaries, IT staff, HR staff]\n",
      "ORGANIZATION_TYPE\n",
      "58 [Business Entity Type 3, School, Government, Religion, Other, ..., Trade: type 4, Telecom, Industry: type 8, Realtor, Industry: type 6]\n",
      "Length: 58\n",
      "Categories (58, object): [Business Entity Type 3, School, Government, Religion, ..., Telecom, Industry: type 8, Realtor, Industry: type 6]\n",
      "WALLSMATERIAL_MODE\n",
      "8 [Stone, brick, Block, NaN, Panel, Mixed, Wooden, Others, Monolithic]\n",
      "Categories (7, object): [Stone, brick, Block, Panel, Mixed, Wooden, Others, Monolithic]\n",
      "WEEKDAY_APPR_PROCESS_START\n",
      "7 [WEDNESDAY, MONDAY, THURSDAY, SUNDAY, SATURDAY, FRIDAY, TUESDAY]\n",
      "Categories (7, object): [WEDNESDAY, MONDAY, THURSDAY, SUNDAY, SATURDAY, FRIDAY, TUESDAY]\n"
     ]
    }
   ],
   "source": [
    "for col in Categorical.columns:\n",
    "    print(col)\n",
    "    print(len(Categorical[col].unique()), Categorical[col].unique())"
   ]
  },
  {
   "cell_type": "code",
   "execution_count": 35,
   "metadata": {},
   "outputs": [
    {
     "data": {
      "text/html": [
       "<div>\n",
       "<style scoped>\n",
       "    .dataframe tbody tr th:only-of-type {\n",
       "        vertical-align: middle;\n",
       "    }\n",
       "\n",
       "    .dataframe tbody tr th {\n",
       "        vertical-align: top;\n",
       "    }\n",
       "\n",
       "    .dataframe thead th {\n",
       "        text-align: right;\n",
       "    }\n",
       "</style>\n",
       "<table border=\"1\" class=\"dataframe\">\n",
       "  <thead>\n",
       "    <tr style=\"text-align: right;\">\n",
       "      <th></th>\n",
       "      <th>CODE_GENDER_F</th>\n",
       "      <th>CODE_GENDER_M</th>\n",
       "      <th>CODE_GENDER_XNA</th>\n",
       "      <th>CODE_GENDER_nan</th>\n",
       "      <th>EMERGENCYSTATE_MODE_No</th>\n",
       "      <th>EMERGENCYSTATE_MODE_Yes</th>\n",
       "      <th>EMERGENCYSTATE_MODE_nan</th>\n",
       "      <th>FLAG_OWN_CAR_N</th>\n",
       "      <th>FLAG_OWN_CAR_Y</th>\n",
       "      <th>FLAG_OWN_CAR_nan</th>\n",
       "      <th>...</th>\n",
       "      <th>WALLSMATERIAL_MODE_Wooden</th>\n",
       "      <th>WALLSMATERIAL_MODE_nan</th>\n",
       "      <th>WEEKDAY_APPR_PROCESS_START_FRIDAY</th>\n",
       "      <th>WEEKDAY_APPR_PROCESS_START_MONDAY</th>\n",
       "      <th>WEEKDAY_APPR_PROCESS_START_SATURDAY</th>\n",
       "      <th>WEEKDAY_APPR_PROCESS_START_SUNDAY</th>\n",
       "      <th>WEEKDAY_APPR_PROCESS_START_THURSDAY</th>\n",
       "      <th>WEEKDAY_APPR_PROCESS_START_TUESDAY</th>\n",
       "      <th>WEEKDAY_APPR_PROCESS_START_WEDNESDAY</th>\n",
       "      <th>WEEKDAY_APPR_PROCESS_START_nan</th>\n",
       "    </tr>\n",
       "  </thead>\n",
       "  <tbody>\n",
       "    <tr>\n",
       "      <th>0</th>\n",
       "      <td>0</td>\n",
       "      <td>1</td>\n",
       "      <td>0</td>\n",
       "      <td>0</td>\n",
       "      <td>1</td>\n",
       "      <td>0</td>\n",
       "      <td>0</td>\n",
       "      <td>1</td>\n",
       "      <td>0</td>\n",
       "      <td>0</td>\n",
       "      <td>...</td>\n",
       "      <td>0</td>\n",
       "      <td>0</td>\n",
       "      <td>0</td>\n",
       "      <td>0</td>\n",
       "      <td>0</td>\n",
       "      <td>0</td>\n",
       "      <td>0</td>\n",
       "      <td>0</td>\n",
       "      <td>1</td>\n",
       "      <td>0</td>\n",
       "    </tr>\n",
       "    <tr>\n",
       "      <th>1</th>\n",
       "      <td>1</td>\n",
       "      <td>0</td>\n",
       "      <td>0</td>\n",
       "      <td>0</td>\n",
       "      <td>1</td>\n",
       "      <td>0</td>\n",
       "      <td>0</td>\n",
       "      <td>1</td>\n",
       "      <td>0</td>\n",
       "      <td>0</td>\n",
       "      <td>...</td>\n",
       "      <td>0</td>\n",
       "      <td>0</td>\n",
       "      <td>0</td>\n",
       "      <td>1</td>\n",
       "      <td>0</td>\n",
       "      <td>0</td>\n",
       "      <td>0</td>\n",
       "      <td>0</td>\n",
       "      <td>0</td>\n",
       "      <td>0</td>\n",
       "    </tr>\n",
       "    <tr>\n",
       "      <th>2</th>\n",
       "      <td>0</td>\n",
       "      <td>1</td>\n",
       "      <td>0</td>\n",
       "      <td>0</td>\n",
       "      <td>0</td>\n",
       "      <td>0</td>\n",
       "      <td>1</td>\n",
       "      <td>0</td>\n",
       "      <td>1</td>\n",
       "      <td>0</td>\n",
       "      <td>...</td>\n",
       "      <td>0</td>\n",
       "      <td>1</td>\n",
       "      <td>0</td>\n",
       "      <td>1</td>\n",
       "      <td>0</td>\n",
       "      <td>0</td>\n",
       "      <td>0</td>\n",
       "      <td>0</td>\n",
       "      <td>0</td>\n",
       "      <td>0</td>\n",
       "    </tr>\n",
       "    <tr>\n",
       "      <th>3</th>\n",
       "      <td>1</td>\n",
       "      <td>0</td>\n",
       "      <td>0</td>\n",
       "      <td>0</td>\n",
       "      <td>0</td>\n",
       "      <td>0</td>\n",
       "      <td>1</td>\n",
       "      <td>1</td>\n",
       "      <td>0</td>\n",
       "      <td>0</td>\n",
       "      <td>...</td>\n",
       "      <td>0</td>\n",
       "      <td>1</td>\n",
       "      <td>0</td>\n",
       "      <td>0</td>\n",
       "      <td>0</td>\n",
       "      <td>0</td>\n",
       "      <td>0</td>\n",
       "      <td>0</td>\n",
       "      <td>1</td>\n",
       "      <td>0</td>\n",
       "    </tr>\n",
       "    <tr>\n",
       "      <th>4</th>\n",
       "      <td>0</td>\n",
       "      <td>1</td>\n",
       "      <td>0</td>\n",
       "      <td>0</td>\n",
       "      <td>0</td>\n",
       "      <td>0</td>\n",
       "      <td>1</td>\n",
       "      <td>1</td>\n",
       "      <td>0</td>\n",
       "      <td>0</td>\n",
       "      <td>...</td>\n",
       "      <td>0</td>\n",
       "      <td>1</td>\n",
       "      <td>0</td>\n",
       "      <td>0</td>\n",
       "      <td>0</td>\n",
       "      <td>0</td>\n",
       "      <td>1</td>\n",
       "      <td>0</td>\n",
       "      <td>0</td>\n",
       "      <td>0</td>\n",
       "    </tr>\n",
       "  </tbody>\n",
       "</table>\n",
       "<p>5 rows × 156 columns</p>\n",
       "</div>"
      ],
      "text/plain": [
       "   CODE_GENDER_F  CODE_GENDER_M  CODE_GENDER_XNA  CODE_GENDER_nan  \\\n",
       "0              0              1                0                0   \n",
       "1              1              0                0                0   \n",
       "2              0              1                0                0   \n",
       "3              1              0                0                0   \n",
       "4              0              1                0                0   \n",
       "\n",
       "   EMERGENCYSTATE_MODE_No  EMERGENCYSTATE_MODE_Yes  EMERGENCYSTATE_MODE_nan  \\\n",
       "0                       1                        0                        0   \n",
       "1                       1                        0                        0   \n",
       "2                       0                        0                        1   \n",
       "3                       0                        0                        1   \n",
       "4                       0                        0                        1   \n",
       "\n",
       "   FLAG_OWN_CAR_N  FLAG_OWN_CAR_Y  FLAG_OWN_CAR_nan  \\\n",
       "0               1               0                 0   \n",
       "1               1               0                 0   \n",
       "2               0               1                 0   \n",
       "3               1               0                 0   \n",
       "4               1               0                 0   \n",
       "\n",
       "                ...                WALLSMATERIAL_MODE_Wooden  \\\n",
       "0               ...                                        0   \n",
       "1               ...                                        0   \n",
       "2               ...                                        0   \n",
       "3               ...                                        0   \n",
       "4               ...                                        0   \n",
       "\n",
       "   WALLSMATERIAL_MODE_nan  WEEKDAY_APPR_PROCESS_START_FRIDAY  \\\n",
       "0                       0                                  0   \n",
       "1                       0                                  0   \n",
       "2                       1                                  0   \n",
       "3                       1                                  0   \n",
       "4                       1                                  0   \n",
       "\n",
       "   WEEKDAY_APPR_PROCESS_START_MONDAY  WEEKDAY_APPR_PROCESS_START_SATURDAY  \\\n",
       "0                                  0                                    0   \n",
       "1                                  1                                    0   \n",
       "2                                  1                                    0   \n",
       "3                                  0                                    0   \n",
       "4                                  0                                    0   \n",
       "\n",
       "   WEEKDAY_APPR_PROCESS_START_SUNDAY  WEEKDAY_APPR_PROCESS_START_THURSDAY  \\\n",
       "0                                  0                                    0   \n",
       "1                                  0                                    0   \n",
       "2                                  0                                    0   \n",
       "3                                  0                                    0   \n",
       "4                                  0                                    1   \n",
       "\n",
       "   WEEKDAY_APPR_PROCESS_START_TUESDAY  WEEKDAY_APPR_PROCESS_START_WEDNESDAY  \\\n",
       "0                                   0                                     1   \n",
       "1                                   0                                     0   \n",
       "2                                   0                                     0   \n",
       "3                                   0                                     1   \n",
       "4                                   0                                     0   \n",
       "\n",
       "   WEEKDAY_APPR_PROCESS_START_nan  \n",
       "0                               0  \n",
       "1                               0  \n",
       "2                               0  \n",
       "3                               0  \n",
       "4                               0  \n",
       "\n",
       "[5 rows x 156 columns]"
      ]
     },
     "execution_count": 35,
     "metadata": {},
     "output_type": "execute_result"
    }
   ],
   "source": [
    "Categorical = pd.get_dummies(Categorical, dummy_na = True)\n",
    "Categorical.head()"
   ]
  },
  {
   "cell_type": "code",
   "execution_count": 36,
   "metadata": {},
   "outputs": [
    {
     "data": {
      "text/plain": [
       "['CODE_GENDER_nan',\n",
       " 'FLAG_OWN_CAR_nan',\n",
       " 'FLAG_OWN_REALTY_nan',\n",
       " 'NAME_CONTRACT_TYPE_nan',\n",
       " 'NAME_EDUCATION_TYPE_nan',\n",
       " 'NAME_FAMILY_STATUS_nan',\n",
       " 'NAME_HOUSING_TYPE_nan',\n",
       " 'NAME_INCOME_TYPE_nan',\n",
       " 'ORGANIZATION_TYPE_nan',\n",
       " 'WEEKDAY_APPR_PROCESS_START_nan']"
      ]
     },
     "execution_count": 36,
     "metadata": {},
     "output_type": "execute_result"
    }
   ],
   "source": [
    "cate_df = pd.DataFrame(Categorical.apply(lambda x: sum(x))).reset_index()\n",
    "drop_list = cate_df[cate_df[0] == 0]['index'].tolist()\n",
    "drop_list"
   ]
  },
  {
   "cell_type": "code",
   "execution_count": 37,
   "metadata": {},
   "outputs": [
    {
     "data": {
      "text/plain": [
       "(356255, 147)"
      ]
     },
     "execution_count": 37,
     "metadata": {},
     "output_type": "execute_result"
    }
   ],
   "source": [
    "Categorical = Categorical.drop(columns = drop_list)\n",
    "Categorical['TARGET'] = full['TARGET']\n",
    "Categorical.shape"
   ]
  },
  {
   "cell_type": "code",
   "execution_count": 38,
   "metadata": {},
   "outputs": [],
   "source": [
    "cate_train = Categorical[Categorical['TARGET'].notnull()]\n",
    "cate_test = Categorical[Categorical['TARGET'].isnull()]"
   ]
  },
  {
   "cell_type": "markdown",
   "metadata": {},
   "source": [
    "#### Step 2\n",
    "* use cate_train to get interaction items for top5 target_related variables\n",
    "* combine interact items"
   ]
  },
  {
   "cell_type": "code",
   "execution_count": 39,
   "metadata": {},
   "outputs": [],
   "source": [
    "thres_interact = [0.18, 0.057]"
   ]
  },
  {
   "cell_type": "code",
   "execution_count": 40,
   "metadata": {},
   "outputs": [
    {
     "data": {
      "text/html": [
       "<div>\n",
       "<style scoped>\n",
       "    .dataframe tbody tr th:only-of-type {\n",
       "        vertical-align: middle;\n",
       "    }\n",
       "\n",
       "    .dataframe tbody tr th {\n",
       "        vertical-align: top;\n",
       "    }\n",
       "\n",
       "    .dataframe thead th {\n",
       "        text-align: right;\n",
       "    }\n",
       "</style>\n",
       "<table border=\"1\" class=\"dataframe\">\n",
       "  <thead>\n",
       "    <tr style=\"text-align: right;\">\n",
       "      <th></th>\n",
       "      <th>variable</th>\n",
       "      <th>corr_with_target</th>\n",
       "    </tr>\n",
       "  </thead>\n",
       "  <tbody>\n",
       "    <tr>\n",
       "      <th>0</th>\n",
       "      <td>NAME_INCOME_TYPE_Working</td>\n",
       "      <td>0.057481</td>\n",
       "    </tr>\n",
       "    <tr>\n",
       "      <th>1</th>\n",
       "      <td>NAME_EDUCATION_TYPE_Higher education</td>\n",
       "      <td>-0.056593</td>\n",
       "    </tr>\n",
       "    <tr>\n",
       "      <th>2</th>\n",
       "      <td>CODE_GENDER_M</td>\n",
       "      <td>0.054713</td>\n",
       "    </tr>\n",
       "    <tr>\n",
       "      <th>3</th>\n",
       "      <td>CODE_GENDER_F</td>\n",
       "      <td>-0.054704</td>\n",
       "    </tr>\n",
       "    <tr>\n",
       "      <th>4</th>\n",
       "      <td>NAME_EDUCATION_TYPE_Secondary / secondary special</td>\n",
       "      <td>0.049824</td>\n",
       "    </tr>\n",
       "    <tr>\n",
       "      <th>5</th>\n",
       "      <td>NAME_INCOME_TYPE_Pensioner</td>\n",
       "      <td>-0.046209</td>\n",
       "    </tr>\n",
       "    <tr>\n",
       "      <th>6</th>\n",
       "      <td>ORGANIZATION_TYPE_XNA</td>\n",
       "      <td>-0.045987</td>\n",
       "    </tr>\n",
       "    <tr>\n",
       "      <th>7</th>\n",
       "      <td>OCCUPATION_TYPE_Laborers</td>\n",
       "      <td>0.043019</td>\n",
       "    </tr>\n",
       "    <tr>\n",
       "      <th>8</th>\n",
       "      <td>EMERGENCYSTATE_MODE_No</td>\n",
       "      <td>-0.042201</td>\n",
       "    </tr>\n",
       "    <tr>\n",
       "      <th>9</th>\n",
       "      <td>EMERGENCYSTATE_MODE_nan</td>\n",
       "      <td>0.041392</td>\n",
       "    </tr>\n",
       "  </tbody>\n",
       "</table>\n",
       "</div>"
      ],
      "text/plain": [
       "                                            variable  corr_with_target\n",
       "0                           NAME_INCOME_TYPE_Working          0.057481\n",
       "1               NAME_EDUCATION_TYPE_Higher education         -0.056593\n",
       "2                                      CODE_GENDER_M          0.054713\n",
       "3                                      CODE_GENDER_F         -0.054704\n",
       "4  NAME_EDUCATION_TYPE_Secondary / secondary special          0.049824\n",
       "5                         NAME_INCOME_TYPE_Pensioner         -0.046209\n",
       "6                              ORGANIZATION_TYPE_XNA         -0.045987\n",
       "7                           OCCUPATION_TYPE_Laborers          0.043019\n",
       "8                             EMERGENCYSTATE_MODE_No         -0.042201\n",
       "9                            EMERGENCYSTATE_MODE_nan          0.041392"
      ]
     },
     "execution_count": 40,
     "metadata": {},
     "output_type": "execute_result"
    }
   ],
   "source": [
    "corrs_target = target_corrs(cate_train)\n",
    "corrs_target.head(10)"
   ]
  },
  {
   "cell_type": "code",
   "execution_count": 41,
   "metadata": {},
   "outputs": [
    {
     "data": {
      "text/plain": [
       "['NAME_INCOME_TYPE_Working',\n",
       " 'NAME_EDUCATION_TYPE_Higher education',\n",
       " 'CODE_GENDER_M',\n",
       " 'CODE_GENDER_F',\n",
       " 'NAME_EDUCATION_TYPE_Secondary / secondary special']"
      ]
     },
     "execution_count": 41,
     "metadata": {},
     "output_type": "execute_result"
    }
   ],
   "source": [
    "cate_intact = corrs_target['variable'][:5].tolist()\n",
    "cate_intact"
   ]
  },
  {
   "cell_type": "code",
   "execution_count": 42,
   "metadata": {},
   "outputs": [],
   "source": [
    "key_v, key_intact_variable_list = interact_variable_list(cate_train, 'TARGET', thresh = 1)"
   ]
  },
  {
   "cell_type": "code",
   "execution_count": 40,
   "metadata": {},
   "outputs": [
    {
     "data": {
      "text/plain": [
       "['NAME_INCOME_TYPE_Working',\n",
       " 'CODE_GENDER_M*NAME_INCOME_TYPE_Working',\n",
       " 'CODE_GENDER_M*NAME_EDUCATION_TYPE_Secondary / secondary special',\n",
       " 'CODE_GENDER_M*NAME_INCOME_TYPE_Working*NAME_EDUCATION_TYPE_Secondary / secondary special',\n",
       " 'NAME_INCOME_TYPE_Working*NAME_EDUCATION_TYPE_Secondary / secondary special']"
      ]
     },
     "execution_count": 40,
     "metadata": {},
     "output_type": "execute_result"
    }
   ],
   "source": [
    "key_intact_variable_list"
   ]
  },
  {
   "cell_type": "code",
   "execution_count": 43,
   "metadata": {},
   "outputs": [
    {
     "data": {
      "text/plain": [
       "['CODE_GENDER_M*NAME_INCOME_TYPE_Working',\n",
       " 'CODE_GENDER_M*NAME_EDUCATION_TYPE_Secondary / secondary special',\n",
       " 'CODE_GENDER_M*NAME_INCOME_TYPE_Working*NAME_EDUCATION_TYPE_Secondary / secondary special',\n",
       " 'NAME_INCOME_TYPE_Working*NAME_EDUCATION_TYPE_Secondary / secondary special']"
      ]
     },
     "execution_count": 43,
     "metadata": {},
     "output_type": "execute_result"
    }
   ],
   "source": [
    "key_intact_variable_list = key_intact_variable_list[1:]\n",
    "key_intact_variable_list"
   ]
  },
  {
   "cell_type": "code",
   "execution_count": 44,
   "metadata": {},
   "outputs": [],
   "source": [
    "cate_train = add_interact_variable(cate_train).drop(columns = ['TARGET'])\n",
    "cate_test = add_interact_variable(cate_test).drop(columns = ['TARGET'])"
   ]
  },
  {
   "cell_type": "code",
   "execution_count": 45,
   "metadata": {},
   "outputs": [
    {
     "data": {
      "text/plain": [
       "True"
      ]
     },
     "execution_count": 45,
     "metadata": {},
     "output_type": "execute_result"
    }
   ],
   "source": [
    "cate_train.shape[1] == cate_test.shape[1]"
   ]
  },
  {
   "cell_type": "code",
   "execution_count": 46,
   "metadata": {},
   "outputs": [],
   "source": [
    "train, test = full[full['TARGET'].notnull()].copy(), full[full['TARGET'].isnull()].copy()"
   ]
  },
  {
   "cell_type": "code",
   "execution_count": 47,
   "metadata": {},
   "outputs": [],
   "source": [
    "train = train.drop(columns = Cate_variable_list)\n",
    "train[cate_train.columns] = cate_train"
   ]
  },
  {
   "cell_type": "code",
   "execution_count": 48,
   "metadata": {},
   "outputs": [],
   "source": [
    "test = test.drop(columns = Cate_variable_list)\n",
    "test[cate_test.columns] = cate_test"
   ]
  },
  {
   "cell_type": "code",
   "execution_count": 49,
   "metadata": {},
   "outputs": [
    {
     "data": {
      "text/plain": [
       "252"
      ]
     },
     "execution_count": 49,
     "metadata": {},
     "output_type": "execute_result"
    }
   ],
   "source": [
    "gc.enable()\n",
    "del full, Categorical, cate_train, cate_test\n",
    "gc.collect()"
   ]
  },
  {
   "cell_type": "markdown",
   "metadata": {},
   "source": [
    "### Check with interaction"
   ]
  },
  {
   "cell_type": "code",
   "execution_count": 50,
   "metadata": {},
   "outputs": [
    {
     "data": {
      "text/html": [
       "<div>\n",
       "<style scoped>\n",
       "    .dataframe tbody tr th:only-of-type {\n",
       "        vertical-align: middle;\n",
       "    }\n",
       "\n",
       "    .dataframe tbody tr th {\n",
       "        vertical-align: top;\n",
       "    }\n",
       "\n",
       "    .dataframe thead th {\n",
       "        text-align: right;\n",
       "    }\n",
       "</style>\n",
       "<table border=\"1\" class=\"dataframe\">\n",
       "  <thead>\n",
       "    <tr style=\"text-align: right;\">\n",
       "      <th></th>\n",
       "      <th>variable</th>\n",
       "      <th>corr_with_target</th>\n",
       "    </tr>\n",
       "  </thead>\n",
       "  <tbody>\n",
       "    <tr>\n",
       "      <th>0</th>\n",
       "      <td>EXIT_SOURCE_MEAN</td>\n",
       "      <td>-0.222052</td>\n",
       "    </tr>\n",
       "    <tr>\n",
       "      <th>1</th>\n",
       "      <td>EXT_SOURCE_3</td>\n",
       "      <td>-0.178919</td>\n",
       "    </tr>\n",
       "    <tr>\n",
       "      <th>2</th>\n",
       "      <td>EXIT_SOURCE_SUM</td>\n",
       "      <td>-0.173322</td>\n",
       "    </tr>\n",
       "    <tr>\n",
       "      <th>3</th>\n",
       "      <td>EXT_SOURCE_2</td>\n",
       "      <td>-0.160472</td>\n",
       "    </tr>\n",
       "    <tr>\n",
       "      <th>4</th>\n",
       "      <td>EXT_SOURCE_1</td>\n",
       "      <td>-0.155317</td>\n",
       "    </tr>\n",
       "    <tr>\n",
       "      <th>5</th>\n",
       "      <td>BUREAU_DAYS_CREDIT_mean</td>\n",
       "      <td>0.089728</td>\n",
       "    </tr>\n",
       "    <tr>\n",
       "      <th>6</th>\n",
       "      <td>BB_CLIENT_BB_LOAN_MONTHS_BALANCE_count_mean</td>\n",
       "      <td>-0.080193</td>\n",
       "    </tr>\n",
       "    <tr>\n",
       "      <th>7</th>\n",
       "      <td>DAYS_BIRTH</td>\n",
       "      <td>0.078239</td>\n",
       "    </tr>\n",
       "    <tr>\n",
       "      <th>8</th>\n",
       "      <td>PREVIOUS_NAME_CONTRACT_STATUS_Refused_mean</td>\n",
       "      <td>0.077671</td>\n",
       "    </tr>\n",
       "    <tr>\n",
       "      <th>9</th>\n",
       "      <td>BUREAU_DAYS_CREDIT_min</td>\n",
       "      <td>0.075247</td>\n",
       "    </tr>\n",
       "  </tbody>\n",
       "</table>\n",
       "</div>"
      ],
      "text/plain": [
       "                                      variable  corr_with_target\n",
       "0                             EXIT_SOURCE_MEAN         -0.222052\n",
       "1                                 EXT_SOURCE_3         -0.178919\n",
       "2                              EXIT_SOURCE_SUM         -0.173322\n",
       "3                                 EXT_SOURCE_2         -0.160472\n",
       "4                                 EXT_SOURCE_1         -0.155317\n",
       "5                      BUREAU_DAYS_CREDIT_mean          0.089728\n",
       "6  BB_CLIENT_BB_LOAN_MONTHS_BALANCE_count_mean         -0.080193\n",
       "7                                   DAYS_BIRTH          0.078239\n",
       "8   PREVIOUS_NAME_CONTRACT_STATUS_Refused_mean          0.077671\n",
       "9                       BUREAU_DAYS_CREDIT_min          0.075247"
      ]
     },
     "execution_count": 50,
     "metadata": {},
     "output_type": "execute_result"
    }
   ],
   "source": [
    "corrs_target = target_corrs(train.select_dtypes('number'))\n",
    "corrs_target.head(10)"
   ]
  },
  {
   "cell_type": "code",
   "execution_count": 57,
   "metadata": {},
   "outputs": [],
   "source": [
    "thres_interact = [0.18, 0.057]"
   ]
  },
  {
   "cell_type": "code",
   "execution_count": 58,
   "metadata": {},
   "outputs": [],
   "source": [
    "key_v, key_intact_variable_list = interact_variable_list(train, 'TARGET', thresh = 0)"
   ]
  },
  {
   "cell_type": "code",
   "execution_count": 59,
   "metadata": {},
   "outputs": [
    {
     "data": {
      "text/plain": [
       "['EXIT_SOURCE_MEAN',\n",
       " 'EXT_SOURCE_3*EXT_SOURCE_2',\n",
       " 'EXIT_SOURCE_MEAN*EXT_SOURCE_3',\n",
       " 'EXT_SOURCE_3*EXIT_SOURCE_SUM',\n",
       " 'EXIT_SOURCE_MEAN*EXIT_SOURCE_SUM',\n",
       " 'EXT_SOURCE_2*EXT_SOURCE_3*EXT_SOURCE_1',\n",
       " 'EXT_SOURCE_3*EXT_SOURCE_1',\n",
       " 'EXT_SOURCE_3*EXIT_SOURCE_MEAN*EXT_SOURCE_2',\n",
       " 'EXIT_SOURCE_MEAN*EXT_SOURCE_2',\n",
       " 'EXT_SOURCE_3*EXIT_SOURCE_MEAN*EXIT_SOURCE_SUM',\n",
       " 'EXIT_SOURCE_SUM*EXT_SOURCE_3*EXT_SOURCE_2',\n",
       " 'EXT_SOURCE_2*EXT_SOURCE_3*EXIT_SOURCE_SUM']"
      ]
     },
     "execution_count": 59,
     "metadata": {},
     "output_type": "execute_result"
    }
   ],
   "source": [
    "key_intact_variable_list"
   ]
  },
  {
   "cell_type": "code",
   "execution_count": 60,
   "metadata": {},
   "outputs": [
    {
     "data": {
      "text/plain": [
       "['EXT_SOURCE_3*EXT_SOURCE_2',\n",
       " 'EXIT_SOURCE_MEAN*EXT_SOURCE_3',\n",
       " 'EXT_SOURCE_3*EXIT_SOURCE_SUM',\n",
       " 'EXIT_SOURCE_MEAN*EXIT_SOURCE_SUM',\n",
       " 'EXT_SOURCE_2*EXT_SOURCE_3*EXT_SOURCE_1',\n",
       " 'EXT_SOURCE_3*EXT_SOURCE_1',\n",
       " 'EXT_SOURCE_3*EXIT_SOURCE_MEAN*EXT_SOURCE_2',\n",
       " 'EXIT_SOURCE_MEAN*EXT_SOURCE_2',\n",
       " 'EXT_SOURCE_3*EXIT_SOURCE_MEAN*EXIT_SOURCE_SUM',\n",
       " 'EXIT_SOURCE_SUM*EXT_SOURCE_3*EXT_SOURCE_2',\n",
       " 'EXT_SOURCE_2*EXT_SOURCE_3*EXIT_SOURCE_SUM']"
      ]
     },
     "execution_count": 60,
     "metadata": {},
     "output_type": "execute_result"
    }
   ],
   "source": [
    "key_intact_variable_list = key_intact_variable_list[1:]\n",
    "key_intact_variable_list "
   ]
  },
  {
   "cell_type": "code",
   "execution_count": 62,
   "metadata": {},
   "outputs": [],
   "source": [
    "train = add_interact_variable(train)"
   ]
  },
  {
   "cell_type": "code",
   "execution_count": 63,
   "metadata": {},
   "outputs": [
    {
     "data": {
      "text/plain": [
       "(307511, 957)"
      ]
     },
     "execution_count": 63,
     "metadata": {},
     "output_type": "execute_result"
    }
   ],
   "source": [
    "train.shape"
   ]
  },
  {
   "cell_type": "code",
   "execution_count": 64,
   "metadata": {},
   "outputs": [],
   "source": [
    "test = add_interact_variable(test)"
   ]
  },
  {
   "cell_type": "code",
   "execution_count": 65,
   "metadata": {},
   "outputs": [
    {
     "data": {
      "text/plain": [
       "(48744, 957)"
      ]
     },
     "execution_count": 65,
     "metadata": {},
     "output_type": "execute_result"
    }
   ],
   "source": [
    "test.shape"
   ]
  },
  {
   "cell_type": "markdown",
   "metadata": {},
   "source": [
    "##### -----No further interaction required"
   ]
  },
  {
   "cell_type": "markdown",
   "metadata": {},
   "source": [
    "### Log transformation"
   ]
  },
  {
   "cell_type": "code",
   "execution_count": 67,
   "metadata": {
    "scrolled": true
   },
   "outputs": [
    {
     "data": {
      "text/html": [
       "<div>\n",
       "<style scoped>\n",
       "    .dataframe tbody tr th:only-of-type {\n",
       "        vertical-align: middle;\n",
       "    }\n",
       "\n",
       "    .dataframe tbody tr th {\n",
       "        vertical-align: top;\n",
       "    }\n",
       "\n",
       "    .dataframe thead th {\n",
       "        text-align: right;\n",
       "    }\n",
       "</style>\n",
       "<table border=\"1\" class=\"dataframe\">\n",
       "  <thead>\n",
       "    <tr style=\"text-align: right;\">\n",
       "      <th></th>\n",
       "      <th>SK_ID_CURR</th>\n",
       "      <th>AMT_ANNUITY</th>\n",
       "      <th>AMT_CREDIT</th>\n",
       "      <th>AMT_INCOME_TOTAL</th>\n",
       "      <th>AMT_REQ_CREDIT_BUREAU_YEAR</th>\n",
       "      <th>APARTMENTS_AVG</th>\n",
       "      <th>BASEMENTAREA_AVG</th>\n",
       "      <th>CNT_FAM_MEMBERS</th>\n",
       "      <th>COMMONAREA_AVG</th>\n",
       "      <th>DAYS_BIRTH</th>\n",
       "      <th>...</th>\n",
       "      <th>EXIT_SOURCE_MEAN*EXT_SOURCE_3</th>\n",
       "      <th>EXT_SOURCE_3*EXIT_SOURCE_SUM</th>\n",
       "      <th>EXIT_SOURCE_MEAN*EXIT_SOURCE_SUM</th>\n",
       "      <th>EXT_SOURCE_2*EXT_SOURCE_3*EXT_SOURCE_1</th>\n",
       "      <th>EXT_SOURCE_3*EXT_SOURCE_1</th>\n",
       "      <th>EXT_SOURCE_3*EXIT_SOURCE_MEAN*EXT_SOURCE_2</th>\n",
       "      <th>EXIT_SOURCE_MEAN*EXT_SOURCE_2</th>\n",
       "      <th>EXT_SOURCE_3*EXIT_SOURCE_MEAN*EXIT_SOURCE_SUM</th>\n",
       "      <th>EXIT_SOURCE_SUM*EXT_SOURCE_3*EXT_SOURCE_2</th>\n",
       "      <th>EXT_SOURCE_2*EXT_SOURCE_3*EXIT_SOURCE_SUM</th>\n",
       "    </tr>\n",
       "  </thead>\n",
       "  <tbody>\n",
       "    <tr>\n",
       "      <th>0</th>\n",
       "      <td>100002.0</td>\n",
       "      <td>24700.5</td>\n",
       "      <td>406597.5</td>\n",
       "      <td>202500.0</td>\n",
       "      <td>1.0</td>\n",
       "      <td>0.0247</td>\n",
       "      <td>0.0369</td>\n",
       "      <td>1.0</td>\n",
       "      <td>0.0143</td>\n",
       "      <td>-9461.0</td>\n",
       "      <td>...</td>\n",
       "      <td>0.022549</td>\n",
       "      <td>0.067648</td>\n",
       "      <td>0.078525</td>\n",
       "      <td>0.003043</td>\n",
       "      <td>0.011573</td>\n",
       "      <td>0.005929</td>\n",
       "      <td>0.042542</td>\n",
       "      <td>0.010945</td>\n",
       "      <td>0.017788</td>\n",
       "      <td>0.017788</td>\n",
       "    </tr>\n",
       "    <tr>\n",
       "      <th>1</th>\n",
       "      <td>100003.0</td>\n",
       "      <td>35698.5</td>\n",
       "      <td>1293502.5</td>\n",
       "      <td>270000.0</td>\n",
       "      <td>0.0</td>\n",
       "      <td>0.0959</td>\n",
       "      <td>0.0529</td>\n",
       "      <td>2.0</td>\n",
       "      <td>0.0605</td>\n",
       "      <td>-16765.0</td>\n",
       "      <td>...</td>\n",
       "      <td>NaN</td>\n",
       "      <td>NaN</td>\n",
       "      <td>0.435723</td>\n",
       "      <td>NaN</td>\n",
       "      <td>NaN</td>\n",
       "      <td>NaN</td>\n",
       "      <td>0.290437</td>\n",
       "      <td>NaN</td>\n",
       "      <td>NaN</td>\n",
       "      <td>NaN</td>\n",
       "    </tr>\n",
       "    <tr>\n",
       "      <th>2</th>\n",
       "      <td>100004.0</td>\n",
       "      <td>6750.0</td>\n",
       "      <td>135000.0</td>\n",
       "      <td>67500.0</td>\n",
       "      <td>0.0</td>\n",
       "      <td>NaN</td>\n",
       "      <td>NaN</td>\n",
       "      <td>1.0</td>\n",
       "      <td>NaN</td>\n",
       "      <td>-19046.0</td>\n",
       "      <td>...</td>\n",
       "      <td>0.468921</td>\n",
       "      <td>0.937842</td>\n",
       "      <td>0.826228</td>\n",
       "      <td>NaN</td>\n",
       "      <td>NaN</td>\n",
       "      <td>0.260679</td>\n",
       "      <td>0.357307</td>\n",
       "      <td>0.602788</td>\n",
       "      <td>0.521358</td>\n",
       "      <td>0.521358</td>\n",
       "    </tr>\n",
       "    <tr>\n",
       "      <th>3</th>\n",
       "      <td>100006.0</td>\n",
       "      <td>29686.5</td>\n",
       "      <td>312682.5</td>\n",
       "      <td>135000.0</td>\n",
       "      <td>NaN</td>\n",
       "      <td>NaN</td>\n",
       "      <td>NaN</td>\n",
       "      <td>2.0</td>\n",
       "      <td>NaN</td>\n",
       "      <td>-19005.0</td>\n",
       "      <td>...</td>\n",
       "      <td>NaN</td>\n",
       "      <td>NaN</td>\n",
       "      <td>0.423074</td>\n",
       "      <td>NaN</td>\n",
       "      <td>NaN</td>\n",
       "      <td>NaN</td>\n",
       "      <td>0.423074</td>\n",
       "      <td>NaN</td>\n",
       "      <td>NaN</td>\n",
       "      <td>NaN</td>\n",
       "    </tr>\n",
       "    <tr>\n",
       "      <th>4</th>\n",
       "      <td>100007.0</td>\n",
       "      <td>21865.5</td>\n",
       "      <td>513000.0</td>\n",
       "      <td>121500.0</td>\n",
       "      <td>0.0</td>\n",
       "      <td>NaN</td>\n",
       "      <td>NaN</td>\n",
       "      <td>1.0</td>\n",
       "      <td>NaN</td>\n",
       "      <td>-19932.0</td>\n",
       "      <td>...</td>\n",
       "      <td>NaN</td>\n",
       "      <td>NaN</td>\n",
       "      <td>0.104160</td>\n",
       "      <td>NaN</td>\n",
       "      <td>NaN</td>\n",
       "      <td>NaN</td>\n",
       "      <td>0.104160</td>\n",
       "      <td>NaN</td>\n",
       "      <td>NaN</td>\n",
       "      <td>NaN</td>\n",
       "    </tr>\n",
       "  </tbody>\n",
       "</table>\n",
       "<p>5 rows × 370 columns</p>\n",
       "</div>"
      ],
      "text/plain": [
       "   SK_ID_CURR  AMT_ANNUITY  AMT_CREDIT  AMT_INCOME_TOTAL  \\\n",
       "0    100002.0      24700.5    406597.5          202500.0   \n",
       "1    100003.0      35698.5   1293502.5          270000.0   \n",
       "2    100004.0       6750.0    135000.0           67500.0   \n",
       "3    100006.0      29686.5    312682.5          135000.0   \n",
       "4    100007.0      21865.5    513000.0          121500.0   \n",
       "\n",
       "   AMT_REQ_CREDIT_BUREAU_YEAR  APARTMENTS_AVG  BASEMENTAREA_AVG  \\\n",
       "0                         1.0          0.0247            0.0369   \n",
       "1                         0.0          0.0959            0.0529   \n",
       "2                         0.0             NaN               NaN   \n",
       "3                         NaN             NaN               NaN   \n",
       "4                         0.0             NaN               NaN   \n",
       "\n",
       "   CNT_FAM_MEMBERS  COMMONAREA_AVG  DAYS_BIRTH  \\\n",
       "0              1.0          0.0143     -9461.0   \n",
       "1              2.0          0.0605    -16765.0   \n",
       "2              1.0             NaN    -19046.0   \n",
       "3              2.0             NaN    -19005.0   \n",
       "4              1.0             NaN    -19932.0   \n",
       "\n",
       "                     ...                      EXIT_SOURCE_MEAN*EXT_SOURCE_3  \\\n",
       "0                    ...                                           0.022549   \n",
       "1                    ...                                                NaN   \n",
       "2                    ...                                           0.468921   \n",
       "3                    ...                                                NaN   \n",
       "4                    ...                                                NaN   \n",
       "\n",
       "   EXT_SOURCE_3*EXIT_SOURCE_SUM  EXIT_SOURCE_MEAN*EXIT_SOURCE_SUM  \\\n",
       "0                      0.067648                          0.078525   \n",
       "1                           NaN                          0.435723   \n",
       "2                      0.937842                          0.826228   \n",
       "3                           NaN                          0.423074   \n",
       "4                           NaN                          0.104160   \n",
       "\n",
       "   EXT_SOURCE_2*EXT_SOURCE_3*EXT_SOURCE_1  EXT_SOURCE_3*EXT_SOURCE_1  \\\n",
       "0                                0.003043                   0.011573   \n",
       "1                                     NaN                        NaN   \n",
       "2                                     NaN                        NaN   \n",
       "3                                     NaN                        NaN   \n",
       "4                                     NaN                        NaN   \n",
       "\n",
       "   EXT_SOURCE_3*EXIT_SOURCE_MEAN*EXT_SOURCE_2  EXIT_SOURCE_MEAN*EXT_SOURCE_2  \\\n",
       "0                                    0.005929                       0.042542   \n",
       "1                                         NaN                       0.290437   \n",
       "2                                    0.260679                       0.357307   \n",
       "3                                         NaN                       0.423074   \n",
       "4                                         NaN                       0.104160   \n",
       "\n",
       "   EXT_SOURCE_3*EXIT_SOURCE_MEAN*EXIT_SOURCE_SUM  \\\n",
       "0                                       0.010945   \n",
       "1                                            NaN   \n",
       "2                                       0.602788   \n",
       "3                                            NaN   \n",
       "4                                            NaN   \n",
       "\n",
       "   EXIT_SOURCE_SUM*EXT_SOURCE_3*EXT_SOURCE_2  \\\n",
       "0                                   0.017788   \n",
       "1                                        NaN   \n",
       "2                                   0.521358   \n",
       "3                                        NaN   \n",
       "4                                        NaN   \n",
       "\n",
       "   EXT_SOURCE_2*EXT_SOURCE_3*EXIT_SOURCE_SUM  \n",
       "0                                   0.017788  \n",
       "1                                        NaN  \n",
       "2                                   0.521358  \n",
       "3                                        NaN  \n",
       "4                                        NaN  \n",
       "\n",
       "[5 rows x 370 columns]"
      ]
     },
     "execution_count": 67,
     "metadata": {},
     "output_type": "execute_result"
    }
   ],
   "source": [
    "numeric = get_numeric(train, 'TARGET')\n",
    "numeric.head()"
   ]
  },
  {
   "cell_type": "markdown",
   "metadata": {},
   "source": [
    "##### is abs a good choice???"
   ]
  },
  {
   "cell_type": "code",
   "execution_count": 68,
   "metadata": {},
   "outputs": [],
   "source": [
    "unused_field = ['SK_ID_CURR']\n",
    "numeric = numeric.drop(columns = unused_field)\n",
    "numeric = abs(numeric)"
   ]
  },
  {
   "cell_type": "code",
   "execution_count": 69,
   "metadata": {},
   "outputs": [
    {
     "name": "stdout",
     "output_type": "stream",
     "text": [
      "['AMT_ANNUITY', 'AMT_CREDIT', 'DAYS_ID_PUBLISH', 'DAYS_LAST_PHONE_CHANGE', 'DAYS_REGISTRATION']\n",
      "138\n"
     ]
    }
   ],
   "source": [
    "log_list = get_log_list(numeric, 'TARGET')\n",
    "print(log_list[:5])\n",
    "print(len(log_list))"
   ]
  },
  {
   "cell_type": "code",
   "execution_count": 70,
   "metadata": {},
   "outputs": [],
   "source": [
    "train = log_transf(train)\n",
    "test = log_transf(test)"
   ]
  },
  {
   "cell_type": "code",
   "execution_count": 71,
   "metadata": {},
   "outputs": [
    {
     "data": {
      "text/plain": [
       "427"
      ]
     },
     "execution_count": 71,
     "metadata": {},
     "output_type": "execute_result"
    }
   ],
   "source": [
    "gc.enable()\n",
    "del numeric\n",
    "gc.collect()"
   ]
  },
  {
   "cell_type": "markdown",
   "metadata": {},
   "source": [
    "### Missing value imputing"
   ]
  },
  {
   "cell_type": "markdown",
   "metadata": {},
   "source": [
    "* Impute Missing for binary variables"
   ]
  },
  {
   "cell_type": "code",
   "execution_count": 72,
   "metadata": {},
   "outputs": [],
   "source": [
    "binary_list = get_binary(train, 'TARGET')\n",
    "binary_list_test = [x for x in binary_list if x not in 'TARGET']"
   ]
  },
  {
   "cell_type": "code",
   "execution_count": 73,
   "metadata": {},
   "outputs": [],
   "source": [
    "train[binary_list] = train[binary_list].fillna(0)\n",
    "test[binary_list_test] = test[binary_list_test].fillna(0)"
   ]
  },
  {
   "cell_type": "markdown",
   "metadata": {},
   "source": [
    "* Impute Missing for numeric variables"
   ]
  },
  {
   "cell_type": "code",
   "execution_count": 74,
   "metadata": {},
   "outputs": [
    {
     "data": {
      "text/html": [
       "<div>\n",
       "<style scoped>\n",
       "    .dataframe tbody tr th:only-of-type {\n",
       "        vertical-align: middle;\n",
       "    }\n",
       "\n",
       "    .dataframe tbody tr th {\n",
       "        vertical-align: top;\n",
       "    }\n",
       "\n",
       "    .dataframe thead th {\n",
       "        text-align: right;\n",
       "    }\n",
       "</style>\n",
       "<table border=\"1\" class=\"dataframe\">\n",
       "  <thead>\n",
       "    <tr style=\"text-align: right;\">\n",
       "      <th></th>\n",
       "      <th>AMT_INCOME_TOTAL</th>\n",
       "      <th>AMT_REQ_CREDIT_BUREAU_YEAR</th>\n",
       "      <th>APARTMENTS_AVG</th>\n",
       "      <th>BASEMENTAREA_AVG</th>\n",
       "      <th>CNT_FAM_MEMBERS</th>\n",
       "      <th>COMMONAREA_AVG</th>\n",
       "      <th>DAYS_BIRTH</th>\n",
       "      <th>DAYS_EMPLOYED</th>\n",
       "      <th>ENTRANCES_AVG</th>\n",
       "      <th>EXT_SOURCE_1</th>\n",
       "      <th>...</th>\n",
       "      <th>NAME_CONTRACT_TYPE_Cash loans_log</th>\n",
       "      <th>NAME_EDUCATION_TYPE_Secondary / secondary special_log</th>\n",
       "      <th>NAME_FAMILY_STATUS_Single / not married_log</th>\n",
       "      <th>NAME_INCOME_TYPE_Working_log</th>\n",
       "      <th>NAME_TYPE_SUITE_Unaccompanied_log</th>\n",
       "      <th>OCCUPATION_TYPE_Laborers_log</th>\n",
       "      <th>CODE_GENDER_M*NAME_INCOME_TYPE_Working_log</th>\n",
       "      <th>CODE_GENDER_M*NAME_EDUCATION_TYPE_Secondary / secondary special_log</th>\n",
       "      <th>CODE_GENDER_M*NAME_INCOME_TYPE_Working*NAME_EDUCATION_TYPE_Secondary / secondary special_log</th>\n",
       "      <th>NAME_INCOME_TYPE_Working*NAME_EDUCATION_TYPE_Secondary / secondary special_log</th>\n",
       "    </tr>\n",
       "  </thead>\n",
       "  <tbody>\n",
       "    <tr>\n",
       "      <th>0</th>\n",
       "      <td>202500.0</td>\n",
       "      <td>1.0</td>\n",
       "      <td>0.0247</td>\n",
       "      <td>0.0369</td>\n",
       "      <td>1.0</td>\n",
       "      <td>0.0143</td>\n",
       "      <td>-9461.0</td>\n",
       "      <td>-637.0</td>\n",
       "      <td>0.0690</td>\n",
       "      <td>0.083037</td>\n",
       "      <td>...</td>\n",
       "      <td>0.693359</td>\n",
       "      <td>0.693359</td>\n",
       "      <td>0.693359</td>\n",
       "      <td>0.693359</td>\n",
       "      <td>0.693359</td>\n",
       "      <td>0.693359</td>\n",
       "      <td>0.693359</td>\n",
       "      <td>0.693359</td>\n",
       "      <td>0.693359</td>\n",
       "      <td>0.693359</td>\n",
       "    </tr>\n",
       "    <tr>\n",
       "      <th>1</th>\n",
       "      <td>270000.0</td>\n",
       "      <td>0.0</td>\n",
       "      <td>0.0959</td>\n",
       "      <td>0.0529</td>\n",
       "      <td>2.0</td>\n",
       "      <td>0.0605</td>\n",
       "      <td>-16765.0</td>\n",
       "      <td>-1188.0</td>\n",
       "      <td>0.0345</td>\n",
       "      <td>0.311267</td>\n",
       "      <td>...</td>\n",
       "      <td>0.693359</td>\n",
       "      <td>0.000000</td>\n",
       "      <td>0.000000</td>\n",
       "      <td>0.000000</td>\n",
       "      <td>0.000000</td>\n",
       "      <td>0.000000</td>\n",
       "      <td>0.000000</td>\n",
       "      <td>0.000000</td>\n",
       "      <td>0.000000</td>\n",
       "      <td>0.000000</td>\n",
       "    </tr>\n",
       "    <tr>\n",
       "      <th>2</th>\n",
       "      <td>67500.0</td>\n",
       "      <td>0.0</td>\n",
       "      <td>NaN</td>\n",
       "      <td>NaN</td>\n",
       "      <td>1.0</td>\n",
       "      <td>NaN</td>\n",
       "      <td>-19046.0</td>\n",
       "      <td>-225.0</td>\n",
       "      <td>NaN</td>\n",
       "      <td>NaN</td>\n",
       "      <td>...</td>\n",
       "      <td>0.000000</td>\n",
       "      <td>0.693359</td>\n",
       "      <td>0.693359</td>\n",
       "      <td>0.693359</td>\n",
       "      <td>0.693359</td>\n",
       "      <td>0.693359</td>\n",
       "      <td>0.693359</td>\n",
       "      <td>0.693359</td>\n",
       "      <td>0.693359</td>\n",
       "      <td>0.693359</td>\n",
       "    </tr>\n",
       "    <tr>\n",
       "      <th>3</th>\n",
       "      <td>135000.0</td>\n",
       "      <td>NaN</td>\n",
       "      <td>NaN</td>\n",
       "      <td>NaN</td>\n",
       "      <td>2.0</td>\n",
       "      <td>NaN</td>\n",
       "      <td>-19005.0</td>\n",
       "      <td>-3039.0</td>\n",
       "      <td>NaN</td>\n",
       "      <td>NaN</td>\n",
       "      <td>...</td>\n",
       "      <td>0.693359</td>\n",
       "      <td>0.693359</td>\n",
       "      <td>0.000000</td>\n",
       "      <td>0.693359</td>\n",
       "      <td>0.693359</td>\n",
       "      <td>0.693359</td>\n",
       "      <td>0.000000</td>\n",
       "      <td>0.000000</td>\n",
       "      <td>0.000000</td>\n",
       "      <td>0.693359</td>\n",
       "    </tr>\n",
       "    <tr>\n",
       "      <th>4</th>\n",
       "      <td>121500.0</td>\n",
       "      <td>0.0</td>\n",
       "      <td>NaN</td>\n",
       "      <td>NaN</td>\n",
       "      <td>1.0</td>\n",
       "      <td>NaN</td>\n",
       "      <td>-19932.0</td>\n",
       "      <td>-3038.0</td>\n",
       "      <td>NaN</td>\n",
       "      <td>NaN</td>\n",
       "      <td>...</td>\n",
       "      <td>0.693359</td>\n",
       "      <td>0.693359</td>\n",
       "      <td>0.693359</td>\n",
       "      <td>0.693359</td>\n",
       "      <td>0.693359</td>\n",
       "      <td>0.000000</td>\n",
       "      <td>0.693359</td>\n",
       "      <td>0.693359</td>\n",
       "      <td>0.693359</td>\n",
       "      <td>0.693359</td>\n",
       "    </tr>\n",
       "  </tbody>\n",
       "</table>\n",
       "<p>5 rows × 369 columns</p>\n",
       "</div>"
      ],
      "text/plain": [
       "   AMT_INCOME_TOTAL  AMT_REQ_CREDIT_BUREAU_YEAR  APARTMENTS_AVG  \\\n",
       "0          202500.0                         1.0          0.0247   \n",
       "1          270000.0                         0.0          0.0959   \n",
       "2           67500.0                         0.0             NaN   \n",
       "3          135000.0                         NaN             NaN   \n",
       "4          121500.0                         0.0             NaN   \n",
       "\n",
       "   BASEMENTAREA_AVG  CNT_FAM_MEMBERS  COMMONAREA_AVG  DAYS_BIRTH  \\\n",
       "0            0.0369              1.0          0.0143     -9461.0   \n",
       "1            0.0529              2.0          0.0605    -16765.0   \n",
       "2               NaN              1.0             NaN    -19046.0   \n",
       "3               NaN              2.0             NaN    -19005.0   \n",
       "4               NaN              1.0             NaN    -19932.0   \n",
       "\n",
       "   DAYS_EMPLOYED  ENTRANCES_AVG  EXT_SOURCE_1  \\\n",
       "0         -637.0         0.0690      0.083037   \n",
       "1        -1188.0         0.0345      0.311267   \n",
       "2         -225.0            NaN           NaN   \n",
       "3        -3039.0            NaN           NaN   \n",
       "4        -3038.0            NaN           NaN   \n",
       "\n",
       "                                        ...                                        \\\n",
       "0                                       ...                                         \n",
       "1                                       ...                                         \n",
       "2                                       ...                                         \n",
       "3                                       ...                                         \n",
       "4                                       ...                                         \n",
       "\n",
       "   NAME_CONTRACT_TYPE_Cash loans_log  \\\n",
       "0                           0.693359   \n",
       "1                           0.693359   \n",
       "2                           0.000000   \n",
       "3                           0.693359   \n",
       "4                           0.693359   \n",
       "\n",
       "   NAME_EDUCATION_TYPE_Secondary / secondary special_log  \\\n",
       "0                                           0.693359       \n",
       "1                                           0.000000       \n",
       "2                                           0.693359       \n",
       "3                                           0.693359       \n",
       "4                                           0.693359       \n",
       "\n",
       "   NAME_FAMILY_STATUS_Single / not married_log  NAME_INCOME_TYPE_Working_log  \\\n",
       "0                                     0.693359                      0.693359   \n",
       "1                                     0.000000                      0.000000   \n",
       "2                                     0.693359                      0.693359   \n",
       "3                                     0.000000                      0.693359   \n",
       "4                                     0.693359                      0.693359   \n",
       "\n",
       "   NAME_TYPE_SUITE_Unaccompanied_log  OCCUPATION_TYPE_Laborers_log  \\\n",
       "0                           0.693359                      0.693359   \n",
       "1                           0.000000                      0.000000   \n",
       "2                           0.693359                      0.693359   \n",
       "3                           0.693359                      0.693359   \n",
       "4                           0.693359                      0.000000   \n",
       "\n",
       "   CODE_GENDER_M*NAME_INCOME_TYPE_Working_log  \\\n",
       "0                                    0.693359   \n",
       "1                                    0.000000   \n",
       "2                                    0.693359   \n",
       "3                                    0.000000   \n",
       "4                                    0.693359   \n",
       "\n",
       "   CODE_GENDER_M*NAME_EDUCATION_TYPE_Secondary / secondary special_log  \\\n",
       "0                                           0.693359                     \n",
       "1                                           0.000000                     \n",
       "2                                           0.693359                     \n",
       "3                                           0.000000                     \n",
       "4                                           0.693359                     \n",
       "\n",
       "   CODE_GENDER_M*NAME_INCOME_TYPE_Working*NAME_EDUCATION_TYPE_Secondary / secondary special_log  \\\n",
       "0                                           0.693359                                              \n",
       "1                                           0.000000                                              \n",
       "2                                           0.693359                                              \n",
       "3                                           0.000000                                              \n",
       "4                                           0.693359                                              \n",
       "\n",
       "   NAME_INCOME_TYPE_Working*NAME_EDUCATION_TYPE_Secondary / secondary special_log  \n",
       "0                                           0.693359                               \n",
       "1                                           0.000000                               \n",
       "2                                           0.693359                               \n",
       "3                                           0.693359                               \n",
       "4                                           0.693359                               \n",
       "\n",
       "[5 rows x 369 columns]"
      ]
     },
     "execution_count": 74,
     "metadata": {},
     "output_type": "execute_result"
    }
   ],
   "source": [
    "numeric = get_numeric(train, 'TARGET').drop(columns = ['SK_ID_CURR'])\n",
    "numeric.head()"
   ]
  },
  {
   "cell_type": "code",
   "execution_count": 75,
   "metadata": {},
   "outputs": [
    {
     "name": "stdout",
     "output_type": "stream",
     "text": [
      "['APARTMENTS_AVG', 'BASEMENTAREA_AVG', 'CNT_FAM_MEMBERS', 'COMMONAREA_AVG', 'ENTRANCES_AVG']\n",
      "158\n"
     ]
    }
   ],
   "source": [
    "missing_imp_lists = missing_imp_list(numeric, 'TARGET')\n",
    "print(missing_imp_lists[:5])\n",
    "print(len(missing_imp_lists))"
   ]
  },
  {
   "cell_type": "code",
   "execution_count": 76,
   "metadata": {},
   "outputs": [],
   "source": [
    "train = missing_imputing(train)\n",
    "test = missing_imputing(test)"
   ]
  },
  {
   "cell_type": "code",
   "execution_count": 77,
   "metadata": {},
   "outputs": [
    {
     "data": {
      "text/plain": [
       "896"
      ]
     },
     "execution_count": 77,
     "metadata": {},
     "output_type": "execute_result"
    }
   ],
   "source": [
    "gc.enable()\n",
    "del numeric\n",
    "gc.collect()"
   ]
  },
  {
   "cell_type": "code",
   "execution_count": 78,
   "metadata": {},
   "outputs": [
    {
     "data": {
      "text/plain": [
       "(307511, 957)"
      ]
     },
     "execution_count": 78,
     "metadata": {},
     "output_type": "execute_result"
    }
   ],
   "source": [
    "train.shape"
   ]
  },
  {
   "cell_type": "code",
   "execution_count": 79,
   "metadata": {},
   "outputs": [
    {
     "data": {
      "text/plain": [
       "(48744, 957)"
      ]
     },
     "execution_count": 79,
     "metadata": {},
     "output_type": "execute_result"
    }
   ],
   "source": [
    "test.shape"
   ]
  },
  {
   "cell_type": "markdown",
   "metadata": {},
   "source": [
    "### Modeling\n",
    "\n",
    "* sampling for params tuning\n",
    "* modeling\n",
    "* might try rf?"
   ]
  },
  {
   "cell_type": "code",
   "execution_count": 80,
   "metadata": {},
   "outputs": [],
   "source": [
    "import lightgbm as lgb\n",
    "\n",
    "from sklearn.model_selection import KFold\n",
    "from sklearn.metrics import roc_auc_score\n",
    "from sklearn.preprocessing import LabelEncoder\n",
    "from sklearn.model_selection import GridSearchCV"
   ]
  },
  {
   "cell_type": "raw",
   "metadata": {},
   "source": [
    "train_sample = train.sample(1000, replace = False)\n",
    "train_ids_sample = train_sample['SK_ID_CURR'] \n",
    "y_train_sample = train_sample['TARGET']\n",
    "x_train_sample = train_sample.drop(columns = ['SK_ID_CURR', 'TARGET', 'Unnamed: 0'])\n"
   ]
  },
  {
   "cell_type": "code",
   "execution_count": 81,
   "metadata": {},
   "outputs": [],
   "source": [
    "params = {'boosting_type': 'gbdt',\n",
    "          'max_depth' : -1,\n",
    "          'objective': 'binary',\n",
    "          'nthread': 3, # Updated from nthread\n",
    "          'num_leaves': 64,\n",
    "          'learning_rate': 0.05,\n",
    "          'max_bin': 512,\n",
    "          'subsample_for_bin': 200,\n",
    "          'subsample': 1,\n",
    "          'subsample_freq': 1,\n",
    "          'colsample_bytree': 0.8,\n",
    "          'reg_alpha': 5,\n",
    "          'reg_lambda': 10,\n",
    "          'min_split_gain': 0.5,\n",
    "          'min_child_weight': 1,\n",
    "          'min_child_samples': 5,\n",
    "          'scale_pos_weight': 1,\n",
    "          'num_class' : 1,\n",
    "          'metric' : 'binary_error'}"
   ]
  },
  {
   "cell_type": "code",
   "execution_count": 82,
   "metadata": {},
   "outputs": [],
   "source": [
    "gridParams = {\n",
    "    'learning_rate': 0.015,\n",
    "    'n_estimators': 5000,\n",
    "    'class_weight': 'balanced',\n",
    "    'objective' : 'binary',\n",
    "    'subsample' : 0.8,\n",
    "    'reg_alpha' : 0.01,\n",
    "    'reg_lambda' : 0.05,\n",
    "    'random_state': 50\n",
    "    }"
   ]
  },
  {
   "cell_type": "code",
   "execution_count": 83,
   "metadata": {},
   "outputs": [],
   "source": [
    "params.update(gridParams)"
   ]
  },
  {
   "cell_type": "raw",
   "metadata": {},
   "source": [
    "mdl = lgb.LGBMClassifier(**params)"
   ]
  },
  {
   "cell_type": "raw",
   "metadata": {},
   "source": [
    "# To view the default model params:\n",
    "mdl.get_params().keys()\n",
    "\n",
    "# Create the grid\n",
    "grid = GridSearchCV(mdl, gridParams,\n",
    "                    verbose=0,\n",
    "                    cv=5,\n",
    "                    n_jobs=2)\n",
    "# Run the grid\n",
    "grid.fit(x_train_sample, y_train_sample)\n",
    "\n",
    "print(grid.best_params_)\n",
    "print(grid.best_score_)\n"
   ]
  },
  {
   "cell_type": "raw",
   "metadata": {},
   "source": [
    "# Using parameters already set above, replace in the best from the grid search\n",
    "params['n_estimators'] = grid.best_params_['n_estimators']\n",
    "params['learning_rate'] = grid.best_params_['learning_rate']\n",
    "params['class_weight'] = grid.best_params_['class_weight']\n",
    "params['reg_alpha'] = grid.best_params_['reg_alpha']\n",
    "params['reg_lambda'] = grid.best_params_['reg_lambda']\n",
    "params['subsample'] = grid.best_params_['subsample']\n",
    "# params['subsample_for_bin'] = grid.best_params_['subsample_for_bin']\n",
    "\n",
    "print('Fitting with params: ')\n",
    "print(params)"
   ]
  },
  {
   "cell_type": "code",
   "execution_count": 84,
   "metadata": {},
   "outputs": [],
   "source": [
    "train_ids = train['SK_ID_CURR']\n",
    "test_ids = test['SK_ID_CURR']\n",
    "    \n",
    "y_train = train['TARGET']\n",
    "    \n",
    "x_train = train.drop(columns = ['SK_ID_CURR', 'TARGET'])\n",
    "x_test = test.drop(columns = ['SK_ID_CURR', 'TARGET'])"
   ]
  },
  {
   "cell_type": "code",
   "execution_count": 85,
   "metadata": {},
   "outputs": [],
   "source": [
    "feature_names = list(x_train.columns)\n",
    "\n",
    "x_train = np.array(x_train)\n",
    "x_test = np.array(x_test)\n",
    "\n",
    "k_fold = KFold(n_splits = 5, shuffle = False, random_state = 50)\n",
    "\n",
    "feature_importance_values = np.zeros(len(feature_names))\n",
    "\n",
    "test_predictions = np.zeros(x_test.shape[0])\n",
    "\n",
    "out_of_fold = np.zeros(x_train.shape[0])\n",
    "\n",
    "valid_scores = []\n",
    "train_scores = []"
   ]
  },
  {
   "cell_type": "code",
   "execution_count": 86,
   "metadata": {
    "scrolled": true
   },
   "outputs": [
    {
     "data": {
      "text/plain": [
       "{'boosting_type': 'gbdt',\n",
       " 'max_depth': -1,\n",
       " 'objective': 'binary',\n",
       " 'nthread': 3,\n",
       " 'num_leaves': 64,\n",
       " 'learning_rate': 0.015,\n",
       " 'max_bin': 512,\n",
       " 'subsample_for_bin': 200,\n",
       " 'subsample': 0.8,\n",
       " 'subsample_freq': 1,\n",
       " 'colsample_bytree': 0.8,\n",
       " 'reg_alpha': 0.01,\n",
       " 'reg_lambda': 0.05,\n",
       " 'min_split_gain': 0.5,\n",
       " 'min_child_weight': 1,\n",
       " 'min_child_samples': 5,\n",
       " 'scale_pos_weight': 1,\n",
       " 'num_class': 1,\n",
       " 'metric': 'binary_error',\n",
       " 'n_estimators': 5000,\n",
       " 'class_weight': 'balanced',\n",
       " 'random_state': 50}"
      ]
     },
     "execution_count": 86,
     "metadata": {},
     "output_type": "execute_result"
    }
   ],
   "source": [
    "params"
   ]
  },
  {
   "cell_type": "code",
   "execution_count": 87,
   "metadata": {},
   "outputs": [
    {
     "name": "stdout",
     "output_type": "stream",
     "text": [
      "Training until validation scores don't improve for 200 rounds.\n",
      "[1000]\tvalid's auc: 0.782943\tvalid's binary_error: 0.233777\ttrain's auc: 0.905848\ttrain's binary_error: 0.202355\n",
      "Early stopping, best iteration is:\n",
      "[1115]\tvalid's auc: 0.783078\tvalid's binary_error: 0.228054\ttrain's auc: 0.914806\ttrain's binary_error: 0.192986\n",
      "Training until validation scores don't improve for 200 rounds.\n",
      "[1000]\tvalid's auc: 0.788191\tvalid's binary_error: 0.234122\ttrain's auc: 0.905972\ttrain's binary_error: 0.199773\n",
      "Early stopping, best iteration is:\n",
      "[1216]\tvalid's auc: 0.788266\tvalid's binary_error: 0.223131\ttrain's auc: 0.922556\ttrain's binary_error: 0.182961\n",
      "Training until validation scores don't improve for 200 rounds.\n",
      "[1000]\tvalid's auc: 0.779791\tvalid's binary_error: 0.234399\ttrain's auc: 0.905505\ttrain's binary_error: 0.200932\n",
      "Early stopping, best iteration is:\n",
      "[1152]\tvalid's auc: 0.780019\tvalid's binary_error: 0.226903\ttrain's auc: 0.91735\ttrain's binary_error: 0.189058\n",
      "Training until validation scores don't improve for 200 rounds.\n",
      "[1000]\tvalid's auc: 0.784833\tvalid's binary_error: 0.230806\ttrain's auc: 0.90539\ttrain's binary_error: 0.202318\n",
      "Early stopping, best iteration is:\n",
      "[1150]\tvalid's auc: 0.785153\tvalid's binary_error: 0.223245\ttrain's auc: 0.917179\ttrain's binary_error: 0.1902\n",
      "Training until validation scores don't improve for 200 rounds.\n",
      "[1000]\tvalid's auc: 0.78702\tvalid's binary_error: 0.230806\ttrain's auc: 0.905349\ttrain's binary_error: 0.200818\n",
      "Early stopping, best iteration is:\n",
      "[1071]\tvalid's auc: 0.787258\tvalid's binary_error: 0.226984\ttrain's auc: 0.911076\ttrain's binary_error: 0.195416\n"
     ]
    }
   ],
   "source": [
    "for train_indices, valid_indices in k_fold.split(x_train):\n",
    "        \n",
    "        # Training data for the fold\n",
    "    train_features, train_labels = x_train[train_indices], y_train[train_indices]\n",
    "        # Validation data for the fold\n",
    "    valid_features, valid_labels = x_train[valid_indices], y_train[valid_indices]\n",
    "        \n",
    "        # Create the model\n",
    "    \n",
    "    model = lgb.LGBMClassifier(**params)\n",
    "    model.fit(train_features, train_labels, eval_metric = 'auc',\n",
    "              eval_set = [(valid_features, valid_labels), (train_features, train_labels)],\n",
    "              eval_names = ['valid', 'train'],\n",
    "              early_stopping_rounds = 200, verbose = 1000)\n",
    "    best_iteration = model.best_iteration_\n",
    "    \n",
    "    feature_importance_values += model.feature_importances_ / k_fold.n_splits\n",
    "    \n",
    "    test_predictions += model.predict_proba(x_test, num_iteration = best_iteration)[:, 1] / k_fold.n_splits\n",
    "    \n",
    "    out_of_fold[valid_indices] = model.predict_proba(valid_features, num_iteration = best_iteration)[:, 1]\n",
    "    \n",
    "    valid_score = model.best_score_['valid']['auc']\n",
    "    train_score = model.best_score_['train']['auc']\n",
    "    valid_scores.append(valid_score)\n",
    "    train_scores.append(train_score)\n",
    "    "
   ]
  },
  {
   "cell_type": "code",
   "execution_count": 88,
   "metadata": {},
   "outputs": [],
   "source": [
    "submission = pd.DataFrame({'SK_ID_CURR': test_ids, 'TARGET': test_predictions})"
   ]
  },
  {
   "cell_type": "code",
   "execution_count": 89,
   "metadata": {},
   "outputs": [],
   "source": [
    "for i in range(0, submission.shape[0]):\n",
    "    if submission.iloc[i, 1] > 1:\n",
    "        submission.iloc[i, 1] = 1"
   ]
  },
  {
   "cell_type": "code",
   "execution_count": 90,
   "metadata": {},
   "outputs": [],
   "source": [
    "submission['SK_ID_CURR'] = submission['SK_ID_CURR'].astype('int32')"
   ]
  },
  {
   "cell_type": "code",
   "execution_count": 91,
   "metadata": {},
   "outputs": [],
   "source": [
    "submission.to_csv('sub_lgb_3_10_1.csv', index = False)"
   ]
  }
 ],
 "metadata": {
  "kernelspec": {
   "display_name": "Python 3",
   "language": "python",
   "name": "python3"
  },
  "language_info": {
   "codemirror_mode": {
    "name": "ipython",
    "version": 3
   },
   "file_extension": ".py",
   "mimetype": "text/x-python",
   "name": "python",
   "nbconvert_exporter": "python",
   "pygments_lexer": "ipython3",
   "version": "3.7.1"
  }
 },
 "nbformat": 4,
 "nbformat_minor": 2
}
